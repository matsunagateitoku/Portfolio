{
  "cells": [
    {
      "cell_type": "code",
      "execution_count": 4,
      "metadata": {
        "id": "fgR51s2KAaAo"
      },
      "outputs": [],
      "source": [
        "import os\n",
        "import sys\n",
        "sys.stdout = open(os.devnull, 'w') # Suppress warnings and output\n",
        "\n",
        "!python -m spacy download zh_core_web_sm\n",
        "!pip install pinyin\n",
        "\n",
        "import spacy\n",
        "from spacy.lang.zh.examples import sentences\n",
        "from spacy import displacy\n",
        "\n",
        "!pip install -U deep_translator\n",
        "from deep_translator import GoogleTranslator\n",
        "import pinyin\n",
        "import pandas as pd\n",
        "from IPython.core.display import display, HTML\n",
        "\n",
        "sys.stdout = sys.__stdout__  # Reset the stdout'"
      ]
    },
    {
      "cell_type": "code",
      "execution_count": 5,
      "metadata": {
        "colab": {
          "base_uri": "https://localhost:8080/",
          "height": 87
        },
        "id": "rOqURKY_AaAr",
        "outputId": "c755594d-587f-4668-e487-2e8185e150fb"
      },
      "outputs": [
        {
          "output_type": "display_data",
          "data": {
            "text/plain": [
              "<IPython.core.display.HTML object>"
            ],
            "text/html": [
              "<span class=\"tex2jax_ignore\"><div class=\"entities\" style=\"line-height: 2.5; direction: ltr\">\n",
              "<mark class=\"entity\" style=\"background: #feca74; padding: 0.45em 0.6em; margin: 0 0.25em; line-height: 1; border-radius: 0.35em;\">\n",
              "    新京\n",
              "    <span style=\"font-size: 0.8em; font-weight: bold; line-height: 1; border-radius: 0.35em; vertical-align: middle; margin-left: 0.5rem\">GPE</span>\n",
              "</mark>\n",
              "报讯（记者 \n",
              "<mark class=\"entity\" style=\"background: #aa9cfc; padding: 0.45em 0.6em; margin: 0 0.25em; line-height: 1; border-radius: 0.35em;\">\n",
              "    张畅\n",
              "    <span style=\"font-size: 0.8em; font-weight: bold; line-height: 1; border-radius: 0.35em; vertical-align: middle; margin-left: 0.5rem\">PERSON</span>\n",
              "</mark>\n",
              "）\n",
              "<mark class=\"entity\" style=\"background: #bfe1d9; padding: 0.45em 0.6em; margin: 0 0.25em; line-height: 1; border-radius: 0.35em;\">\n",
              "    11月29日\n",
              "    <span style=\"font-size: 0.8em; font-weight: bold; line-height: 1; border-radius: 0.35em; vertical-align: middle; margin-left: 0.5rem\">DATE</span>\n",
              "</mark>\n",
              "，\n",
              "<mark class=\"entity\" style=\"background: #9cc9cc; padding: 0.45em 0.6em; margin: 0 0.25em; line-height: 1; border-radius: 0.35em;\">\n",
              "    故宫\n",
              "    <span style=\"font-size: 0.8em; font-weight: bold; line-height: 1; border-radius: 0.35em; vertical-align: middle; margin-left: 0.5rem\">FAC</span>\n",
              "</mark>\n",
              "发布消息称，为进一步贯彻落实《\n",
              "<mark class=\"entity\" style=\"background: #ff8197; padding: 0.45em 0.6em; margin: 0 0.25em; line-height: 1; border-radius: 0.35em;\">\n",
              "    中华人民共和国未成年人保护法\n",
              "    <span style=\"font-size: 0.8em; font-weight: bold; line-height: 1; border-radius: 0.35em; vertical-align: middle; margin-left: 0.5rem\">LAW</span>\n",
              "</mark>\n",
              "》，\n",
              "<mark class=\"entity\" style=\"background: #7aecec; padding: 0.45em 0.6em; margin: 0 0.25em; line-height: 1; border-radius: 0.35em;\">\n",
              "    故宫博物院\n",
              "    <span style=\"font-size: 0.8em; font-weight: bold; line-height: 1; border-radius: 0.35em; vertical-align: middle; margin-left: 0.5rem\">ORG</span>\n",
              "</mark>\n",
              "决定在原有\n",
              "<mark class=\"entity\" style=\"background: #bfe1d9; padding: 0.45em 0.6em; margin: 0 0.25em; line-height: 1; border-radius: 0.35em;\">\n",
              "    6岁以下\n",
              "    <span style=\"font-size: 0.8em; font-weight: bold; line-height: 1; border-radius: 0.35em; vertical-align: middle; margin-left: 0.5rem\">DATE</span>\n",
              "</mark>\n",
              "或身高\n",
              "<mark class=\"entity\" style=\"background: #e4e7d2; padding: 0.45em 0.6em; margin: 0 0.25em; line-height: 1; border-radius: 0.35em;\">\n",
              "    1.2米\n",
              "    <span style=\"font-size: 0.8em; font-weight: bold; line-height: 1; border-radius: 0.35em; vertical-align: middle; margin-left: 0.5rem\">QUANTITY</span>\n",
              "</mark>\n",
              "以下儿童，以及每\n",
              "<mark class=\"entity\" style=\"background: #bfe1d9; padding: 0.45em 0.6em; margin: 0 0.25em; line-height: 1; border-radius: 0.35em;\">\n",
              "    周二\n",
              "    <span style=\"font-size: 0.8em; font-weight: bold; line-height: 1; border-radius: 0.35em; vertical-align: middle; margin-left: 0.5rem\">DATE</span>\n",
              "</mark>\n",
              "统一预约的中小学生免费的基础上，试行所有开放日对未成年人免费开放。</div></span>"
            ]
          },
          "metadata": {}
        }
      ],
      "source": [
        "nlp = spacy.load(\"zh_core_web_sm\")\n",
        "doc = nlp(\"新京报讯（记者 张畅）11月29日，故宫发布消息称，为进一步贯彻落实《中华人民共和国未成年人保护法》，故宫博物院决定在原有6岁以下或身高1.2米以下儿童，以及每周二统一预约的中小学生免费的基础上，试行所有开放日对未成年人免费开放。\")\n",
        "\n",
        "print('Input text:')\n",
        "print(\"\\t\"+doc.text+'\\n')\n",
        "print('Translation:')\n",
        "translated = GoogleTranslator(source='auto', target='en').translate(doc.text)\n",
        "print(\"\\t\"+translated+'\\n')\n",
        "print(\"Extracted entites:\")\n",
        "for ent in doc.ents:\n",
        "    print(\"\\t\"+ent.text,  ent.label_, ent.start_char, ent.end_char,)\n",
        "print(\"NER\")\n",
        "displacy.render(doc, style=\"ent\", jupyter=True)\n"
      ]
    },
    {
      "cell_type": "code",
      "execution_count": null,
      "metadata": {
        "id": "KbZtpUWwAaAs",
        "outputId": "5dc9de3b-781f-4774-9be8-8943a370119a"
      },
      "outputs": [
        {
          "name": "stdout",
          "output_type": "stream",
          "text": [
            "Parts of speech:\n",
            "    Term           Pinyin       Translation    POS  POS details\n",
            "0     新京          xīnjīng           Xinjing  PROPN        nsubj\n",
            "1     报讯           bàoxùn            report   VERB         ROOT\n",
            "2      （                （              None  PUNCT        punct\n",
            "3     记者            jìzhě          reporter   NOUN          dep\n",
            "4     张畅       zhāngchàng       Zhang Chang  PROPN          dep\n",
            "5      ）                ）              None  PUNCT        punct\n",
            "6    11月            11yuè          November   NOUN  compound:nn\n",
            "7    29日             29rì              29th   NOUN    nmod:tmod\n",
            "8      ，                ，              None  PUNCT        punct\n",
            "9     故宫           gùgōng    Forbidden City  PROPN        nsubj\n",
            "10    发布             fābù           release   VERB         ROOT\n",
            "11    消息           xiāoxī       information   NOUN        nsubj\n",
            "12     称            chēng               say   VERB         conj\n",
            "13     ，                ，              None  PUNCT        punct\n",
            "14     为              wèi               for    ADP         case\n",
            "15   进一步          jìnyībù           further    ADV       advmod\n",
            "16    贯彻          guànchè         implement   VERB        ccomp\n",
            "17    落实           luòshí         implement   VERB  compound:vc\n",
            "18     《                《              None  PUNCT        punct\n",
            "19    中华         zhōnghuá             China  PROPN  compound:nn\n",
            "20    人民           rénmín            people   NOUN  compound:nn\n",
            "21   共和国        gònghéguó          Republic   NOUN  nmod:assmod\n",
            "22  未成年人  wèichéngniánrén             minor   NOUN  compound:nn\n",
            "23   保护法          bǎohùfǎ    protection law   NOUN         dobj\n",
            "24     》                》              None  PUNCT        punct\n",
            "25     ，                ，              None  PUNCT        punct\n",
            "26    故宫           gùgōng    Forbidden City  PROPN  compound:nn\n",
            "27   博物院         bówùyuàn            museum   NOUN        nsubj\n",
            "28    决定          juédìng            Decide   VERB         conj\n",
            "29     在              zài             exist    ADP         case\n",
            "..   ...              ...               ...    ...          ...\n",
            "32     岁              sùi               age    NUM     mark:clf\n",
            "33    以下            yǐxià     the following   PART         case\n",
            "34     或              huò                or  CCONJ           cc\n",
            "35    身高          shēngāo            height   NOUN  compound:nn\n",
            "36   1.2              1.2               1.2    NUM       nummod\n",
            "37     米               mǐ              rice    NUM     mark:clf\n",
            "38    以下            yǐxià     the following   PART         case\n",
            "39    儿童           értóng             child   NOUN          dep\n",
            "40     ，                ，              None  PUNCT        punct\n",
            "41    以及             yǐjí        as well as  CCONJ           cc\n",
            "42     每              měi             Every    DET          det\n",
            "43    周二           zhōuèr           Tuesday   NOUN  compound:nn\n",
            "44    统一           tǒngyī             Unite    ADV       advmod\n",
            "45    预约            yùyuē           reserve   VERB          acl\n",
            "46     的               de                of   PART         mark\n",
            "47    中小        zhōngxiǎo  small and medium    ADJ         amod\n",
            "48    学生         xuéshēng           student   NOUN          dep\n",
            "49    免费          miǎnfèi              free    ADJ         amod\n",
            "50     的               de                of   PART         case\n",
            "51    基础            jīchǔ              Base   NOUN    nmod:prep\n",
            "52     上            shàng          superior   PART         case\n",
            "53     ，                ，              None  PUNCT        punct\n",
            "54    试行          shìxíng         trial run   VERB        ccomp\n",
            "55    所有           suǒyǒu               all    DET          det\n",
            "56   开放日        kāifàngrì          open day   NOUN         dobj\n",
            "57     对              dùi             right    ADP         case\n",
            "58  未成年人  wèichéngniánrén             minor   NOUN    nmod:prep\n",
            "59    免费          miǎnfèi              free    ADV       advmod\n",
            "60    开放          kāifàng              open   VERB        ccomp\n",
            "61     。                。              None  PUNCT        punct\n",
            "\n",
            "[62 rows x 5 columns]\n"
          ]
        },
        {
          "data": {
            "text/html": [
              "<html><head></head><body><h2><ruby><rb>新京</rb><rt>xīnjīng</rt> <ruby></h2></body></html>"
            ],
            "text/plain": [
              "<IPython.core.display.HTML object>"
            ]
          },
          "metadata": {},
          "output_type": "display_data"
        },
        {
          "data": {
            "text/html": [
              "<html><head></head><body><h2><ruby><rb>报讯</rb><rt>bàoxùn</rt> <ruby></h2></body></html>"
            ],
            "text/plain": [
              "<IPython.core.display.HTML object>"
            ]
          },
          "metadata": {},
          "output_type": "display_data"
        },
        {
          "data": {
            "text/html": [
              "<html><head></head><body><h2><ruby><rb> </rb><rt> </rt> <ruby></h2></body></html>"
            ],
            "text/plain": [
              "<IPython.core.display.HTML object>"
            ]
          },
          "metadata": {},
          "output_type": "display_data"
        },
        {
          "data": {
            "text/html": [
              "<html><head></head><body><h2><ruby><rb>记者</rb><rt>jìzhě</rt> <ruby></h2></body></html>"
            ],
            "text/plain": [
              "<IPython.core.display.HTML object>"
            ]
          },
          "metadata": {},
          "output_type": "display_data"
        },
        {
          "data": {
            "text/html": [
              "<html><head></head><body><h2><ruby><rb>张畅</rb><rt>zhāngchàng</rt> <ruby></h2></body></html>"
            ],
            "text/plain": [
              "<IPython.core.display.HTML object>"
            ]
          },
          "metadata": {},
          "output_type": "display_data"
        },
        {
          "data": {
            "text/html": [
              "<html><head></head><body><h2><ruby><rb> </rb><rt> </rt> <ruby></h2></body></html>"
            ],
            "text/plain": [
              "<IPython.core.display.HTML object>"
            ]
          },
          "metadata": {},
          "output_type": "display_data"
        },
        {
          "data": {
            "text/html": [
              "<html><head></head><body><h2><ruby><rb>11月</rb><rt>11yuè</rt> <ruby></h2></body></html>"
            ],
            "text/plain": [
              "<IPython.core.display.HTML object>"
            ]
          },
          "metadata": {},
          "output_type": "display_data"
        },
        {
          "data": {
            "text/html": [
              "<html><head></head><body><h2><ruby><rb>29日</rb><rt>29rì</rt> <ruby></h2></body></html>"
            ],
            "text/plain": [
              "<IPython.core.display.HTML object>"
            ]
          },
          "metadata": {},
          "output_type": "display_data"
        },
        {
          "data": {
            "text/html": [
              "<html><head></head><body><h2><ruby><rb> </rb><rt> </rt> <ruby></h2></body></html>"
            ],
            "text/plain": [
              "<IPython.core.display.HTML object>"
            ]
          },
          "metadata": {},
          "output_type": "display_data"
        },
        {
          "data": {
            "text/html": [
              "<html><head></head><body><h2><ruby><rb>故宫</rb><rt>gùgōng</rt> <ruby></h2></body></html>"
            ],
            "text/plain": [
              "<IPython.core.display.HTML object>"
            ]
          },
          "metadata": {},
          "output_type": "display_data"
        },
        {
          "data": {
            "text/html": [
              "<html><head></head><body><h2><ruby><rb>发布</rb><rt>fābù</rt> <ruby></h2></body></html>"
            ],
            "text/plain": [
              "<IPython.core.display.HTML object>"
            ]
          },
          "metadata": {},
          "output_type": "display_data"
        },
        {
          "data": {
            "text/html": [
              "<html><head></head><body><h2><ruby><rb>消息</rb><rt>xiāoxī</rt> <ruby></h2></body></html>"
            ],
            "text/plain": [
              "<IPython.core.display.HTML object>"
            ]
          },
          "metadata": {},
          "output_type": "display_data"
        },
        {
          "data": {
            "text/html": [
              "<html><head></head><body><h2><ruby><rb>称</rb><rt>chēng</rt> <ruby></h2></body></html>"
            ],
            "text/plain": [
              "<IPython.core.display.HTML object>"
            ]
          },
          "metadata": {},
          "output_type": "display_data"
        },
        {
          "data": {
            "text/html": [
              "<html><head></head><body><h2><ruby><rb> </rb><rt> </rt> <ruby></h2></body></html>"
            ],
            "text/plain": [
              "<IPython.core.display.HTML object>"
            ]
          },
          "metadata": {},
          "output_type": "display_data"
        },
        {
          "data": {
            "text/html": [
              "<html><head></head><body><h2><ruby><rb>为</rb><rt>wèi</rt> <ruby></h2></body></html>"
            ],
            "text/plain": [
              "<IPython.core.display.HTML object>"
            ]
          },
          "metadata": {},
          "output_type": "display_data"
        },
        {
          "data": {
            "text/html": [
              "<html><head></head><body><h2><ruby><rb>进一步</rb><rt>jìnyībù</rt> <ruby></h2></body></html>"
            ],
            "text/plain": [
              "<IPython.core.display.HTML object>"
            ]
          },
          "metadata": {},
          "output_type": "display_data"
        },
        {
          "data": {
            "text/html": [
              "<html><head></head><body><h2><ruby><rb>贯彻</rb><rt>guànchè</rt> <ruby></h2></body></html>"
            ],
            "text/plain": [
              "<IPython.core.display.HTML object>"
            ]
          },
          "metadata": {},
          "output_type": "display_data"
        },
        {
          "data": {
            "text/html": [
              "<html><head></head><body><h2><ruby><rb>落实</rb><rt>luòshí</rt> <ruby></h2></body></html>"
            ],
            "text/plain": [
              "<IPython.core.display.HTML object>"
            ]
          },
          "metadata": {},
          "output_type": "display_data"
        },
        {
          "data": {
            "text/html": [
              "<html><head></head><body><h2><ruby><rb> </rb><rt> </rt> <ruby></h2></body></html>"
            ],
            "text/plain": [
              "<IPython.core.display.HTML object>"
            ]
          },
          "metadata": {},
          "output_type": "display_data"
        },
        {
          "data": {
            "text/html": [
              "<html><head></head><body><h2><ruby><rb>中华</rb><rt>zhōnghuá</rt> <ruby></h2></body></html>"
            ],
            "text/plain": [
              "<IPython.core.display.HTML object>"
            ]
          },
          "metadata": {},
          "output_type": "display_data"
        },
        {
          "data": {
            "text/html": [
              "<html><head></head><body><h2><ruby><rb>人民</rb><rt>rénmín</rt> <ruby></h2></body></html>"
            ],
            "text/plain": [
              "<IPython.core.display.HTML object>"
            ]
          },
          "metadata": {},
          "output_type": "display_data"
        },
        {
          "data": {
            "text/html": [
              "<html><head></head><body><h2><ruby><rb>共和国</rb><rt>gònghéguó</rt> <ruby></h2></body></html>"
            ],
            "text/plain": [
              "<IPython.core.display.HTML object>"
            ]
          },
          "metadata": {},
          "output_type": "display_data"
        },
        {
          "data": {
            "text/html": [
              "<html><head></head><body><h2><ruby><rb>未成年人</rb><rt>wèichéngniánrén</rt> <ruby></h2></body></html>"
            ],
            "text/plain": [
              "<IPython.core.display.HTML object>"
            ]
          },
          "metadata": {},
          "output_type": "display_data"
        },
        {
          "data": {
            "text/html": [
              "<html><head></head><body><h2><ruby><rb>保护法</rb><rt>bǎohùfǎ</rt> <ruby></h2></body></html>"
            ],
            "text/plain": [
              "<IPython.core.display.HTML object>"
            ]
          },
          "metadata": {},
          "output_type": "display_data"
        },
        {
          "data": {
            "text/html": [
              "<html><head></head><body><h2><ruby><rb> </rb><rt> </rt> <ruby></h2></body></html>"
            ],
            "text/plain": [
              "<IPython.core.display.HTML object>"
            ]
          },
          "metadata": {},
          "output_type": "display_data"
        },
        {
          "data": {
            "text/html": [
              "<html><head></head><body><h2><ruby><rb> </rb><rt> </rt> <ruby></h2></body></html>"
            ],
            "text/plain": [
              "<IPython.core.display.HTML object>"
            ]
          },
          "metadata": {},
          "output_type": "display_data"
        },
        {
          "data": {
            "text/html": [
              "<html><head></head><body><h2><ruby><rb>故宫</rb><rt>gùgōng</rt> <ruby></h2></body></html>"
            ],
            "text/plain": [
              "<IPython.core.display.HTML object>"
            ]
          },
          "metadata": {},
          "output_type": "display_data"
        },
        {
          "data": {
            "text/html": [
              "<html><head></head><body><h2><ruby><rb>博物院</rb><rt>bówùyuàn</rt> <ruby></h2></body></html>"
            ],
            "text/plain": [
              "<IPython.core.display.HTML object>"
            ]
          },
          "metadata": {},
          "output_type": "display_data"
        },
        {
          "data": {
            "text/html": [
              "<html><head></head><body><h2><ruby><rb>决定</rb><rt>juédìng</rt> <ruby></h2></body></html>"
            ],
            "text/plain": [
              "<IPython.core.display.HTML object>"
            ]
          },
          "metadata": {},
          "output_type": "display_data"
        },
        {
          "data": {
            "text/html": [
              "<html><head></head><body><h2><ruby><rb>在</rb><rt>zài</rt> <ruby></h2></body></html>"
            ],
            "text/plain": [
              "<IPython.core.display.HTML object>"
            ]
          },
          "metadata": {},
          "output_type": "display_data"
        },
        {
          "data": {
            "text/html": [
              "<html><head></head><body><h2><ruby><rb>原有</rb><rt>yuányǒu</rt> <ruby></h2></body></html>"
            ],
            "text/plain": [
              "<IPython.core.display.HTML object>"
            ]
          },
          "metadata": {},
          "output_type": "display_data"
        },
        {
          "data": {
            "text/html": [
              "<html><head></head><body><h2><ruby><rb>6</rb><rt>6</rt> <ruby></h2></body></html>"
            ],
            "text/plain": [
              "<IPython.core.display.HTML object>"
            ]
          },
          "metadata": {},
          "output_type": "display_data"
        },
        {
          "data": {
            "text/html": [
              "<html><head></head><body><h2><ruby><rb>岁</rb><rt>sùi</rt> <ruby></h2></body></html>"
            ],
            "text/plain": [
              "<IPython.core.display.HTML object>"
            ]
          },
          "metadata": {},
          "output_type": "display_data"
        },
        {
          "data": {
            "text/html": [
              "<html><head></head><body><h2><ruby><rb>以下</rb><rt>yǐxià</rt> <ruby></h2></body></html>"
            ],
            "text/plain": [
              "<IPython.core.display.HTML object>"
            ]
          },
          "metadata": {},
          "output_type": "display_data"
        },
        {
          "data": {
            "text/html": [
              "<html><head></head><body><h2><ruby><rb>或</rb><rt>huò</rt> <ruby></h2></body></html>"
            ],
            "text/plain": [
              "<IPython.core.display.HTML object>"
            ]
          },
          "metadata": {},
          "output_type": "display_data"
        },
        {
          "data": {
            "text/html": [
              "<html><head></head><body><h2><ruby><rb>身高</rb><rt>shēngāo</rt> <ruby></h2></body></html>"
            ],
            "text/plain": [
              "<IPython.core.display.HTML object>"
            ]
          },
          "metadata": {},
          "output_type": "display_data"
        },
        {
          "data": {
            "text/html": [
              "<html><head></head><body><h2><ruby><rb>1.2</rb><rt>1.2</rt> <ruby></h2></body></html>"
            ],
            "text/plain": [
              "<IPython.core.display.HTML object>"
            ]
          },
          "metadata": {},
          "output_type": "display_data"
        },
        {
          "data": {
            "text/html": [
              "<html><head></head><body><h2><ruby><rb>米</rb><rt>mǐ</rt> <ruby></h2></body></html>"
            ],
            "text/plain": [
              "<IPython.core.display.HTML object>"
            ]
          },
          "metadata": {},
          "output_type": "display_data"
        },
        {
          "data": {
            "text/html": [
              "<html><head></head><body><h2><ruby><rb>以下</rb><rt>yǐxià</rt> <ruby></h2></body></html>"
            ],
            "text/plain": [
              "<IPython.core.display.HTML object>"
            ]
          },
          "metadata": {},
          "output_type": "display_data"
        },
        {
          "data": {
            "text/html": [
              "<html><head></head><body><h2><ruby><rb>儿童</rb><rt>értóng</rt> <ruby></h2></body></html>"
            ],
            "text/plain": [
              "<IPython.core.display.HTML object>"
            ]
          },
          "metadata": {},
          "output_type": "display_data"
        },
        {
          "data": {
            "text/html": [
              "<html><head></head><body><h2><ruby><rb> </rb><rt> </rt> <ruby></h2></body></html>"
            ],
            "text/plain": [
              "<IPython.core.display.HTML object>"
            ]
          },
          "metadata": {},
          "output_type": "display_data"
        },
        {
          "data": {
            "text/html": [
              "<html><head></head><body><h2><ruby><rb>以及</rb><rt>yǐjí</rt> <ruby></h2></body></html>"
            ],
            "text/plain": [
              "<IPython.core.display.HTML object>"
            ]
          },
          "metadata": {},
          "output_type": "display_data"
        },
        {
          "data": {
            "text/html": [
              "<html><head></head><body><h2><ruby><rb>每</rb><rt>měi</rt> <ruby></h2></body></html>"
            ],
            "text/plain": [
              "<IPython.core.display.HTML object>"
            ]
          },
          "metadata": {},
          "output_type": "display_data"
        },
        {
          "data": {
            "text/html": [
              "<html><head></head><body><h2><ruby><rb>周二</rb><rt>zhōuèr</rt> <ruby></h2></body></html>"
            ],
            "text/plain": [
              "<IPython.core.display.HTML object>"
            ]
          },
          "metadata": {},
          "output_type": "display_data"
        },
        {
          "data": {
            "text/html": [
              "<html><head></head><body><h2><ruby><rb>统一</rb><rt>tǒngyī</rt> <ruby></h2></body></html>"
            ],
            "text/plain": [
              "<IPython.core.display.HTML object>"
            ]
          },
          "metadata": {},
          "output_type": "display_data"
        },
        {
          "data": {
            "text/html": [
              "<html><head></head><body><h2><ruby><rb>预约</rb><rt>yùyuē</rt> <ruby></h2></body></html>"
            ],
            "text/plain": [
              "<IPython.core.display.HTML object>"
            ]
          },
          "metadata": {},
          "output_type": "display_data"
        },
        {
          "data": {
            "text/html": [
              "<html><head></head><body><h2><ruby><rb>的</rb><rt>de</rt> <ruby></h2></body></html>"
            ],
            "text/plain": [
              "<IPython.core.display.HTML object>"
            ]
          },
          "metadata": {},
          "output_type": "display_data"
        },
        {
          "data": {
            "text/html": [
              "<html><head></head><body><h2><ruby><rb>中小</rb><rt>zhōngxiǎo</rt> <ruby></h2></body></html>"
            ],
            "text/plain": [
              "<IPython.core.display.HTML object>"
            ]
          },
          "metadata": {},
          "output_type": "display_data"
        },
        {
          "data": {
            "text/html": [
              "<html><head></head><body><h2><ruby><rb>学生</rb><rt>xuéshēng</rt> <ruby></h2></body></html>"
            ],
            "text/plain": [
              "<IPython.core.display.HTML object>"
            ]
          },
          "metadata": {},
          "output_type": "display_data"
        },
        {
          "data": {
            "text/html": [
              "<html><head></head><body><h2><ruby><rb>免费</rb><rt>miǎnfèi</rt> <ruby></h2></body></html>"
            ],
            "text/plain": [
              "<IPython.core.display.HTML object>"
            ]
          },
          "metadata": {},
          "output_type": "display_data"
        },
        {
          "data": {
            "text/html": [
              "<html><head></head><body><h2><ruby><rb>的</rb><rt>de</rt> <ruby></h2></body></html>"
            ],
            "text/plain": [
              "<IPython.core.display.HTML object>"
            ]
          },
          "metadata": {},
          "output_type": "display_data"
        },
        {
          "data": {
            "text/html": [
              "<html><head></head><body><h2><ruby><rb>基础</rb><rt>jīchǔ</rt> <ruby></h2></body></html>"
            ],
            "text/plain": [
              "<IPython.core.display.HTML object>"
            ]
          },
          "metadata": {},
          "output_type": "display_data"
        },
        {
          "data": {
            "text/html": [
              "<html><head></head><body><h2><ruby><rb>上</rb><rt>shàng</rt> <ruby></h2></body></html>"
            ],
            "text/plain": [
              "<IPython.core.display.HTML object>"
            ]
          },
          "metadata": {},
          "output_type": "display_data"
        },
        {
          "data": {
            "text/html": [
              "<html><head></head><body><h2><ruby><rb> </rb><rt> </rt> <ruby></h2></body></html>"
            ],
            "text/plain": [
              "<IPython.core.display.HTML object>"
            ]
          },
          "metadata": {},
          "output_type": "display_data"
        },
        {
          "data": {
            "text/html": [
              "<html><head></head><body><h2><ruby><rb>试行</rb><rt>shìxíng</rt> <ruby></h2></body></html>"
            ],
            "text/plain": [
              "<IPython.core.display.HTML object>"
            ]
          },
          "metadata": {},
          "output_type": "display_data"
        },
        {
          "data": {
            "text/html": [
              "<html><head></head><body><h2><ruby><rb>所有</rb><rt>suǒyǒu</rt> <ruby></h2></body></html>"
            ],
            "text/plain": [
              "<IPython.core.display.HTML object>"
            ]
          },
          "metadata": {},
          "output_type": "display_data"
        },
        {
          "data": {
            "text/html": [
              "<html><head></head><body><h2><ruby><rb>开放日</rb><rt>kāifàngrì</rt> <ruby></h2></body></html>"
            ],
            "text/plain": [
              "<IPython.core.display.HTML object>"
            ]
          },
          "metadata": {},
          "output_type": "display_data"
        },
        {
          "data": {
            "text/html": [
              "<html><head></head><body><h2><ruby><rb>对</rb><rt>dùi</rt> <ruby></h2></body></html>"
            ],
            "text/plain": [
              "<IPython.core.display.HTML object>"
            ]
          },
          "metadata": {},
          "output_type": "display_data"
        },
        {
          "data": {
            "text/html": [
              "<html><head></head><body><h2><ruby><rb>未成年人</rb><rt>wèichéngniánrén</rt> <ruby></h2></body></html>"
            ],
            "text/plain": [
              "<IPython.core.display.HTML object>"
            ]
          },
          "metadata": {},
          "output_type": "display_data"
        },
        {
          "data": {
            "text/html": [
              "<html><head></head><body><h2><ruby><rb>免费</rb><rt>miǎnfèi</rt> <ruby></h2></body></html>"
            ],
            "text/plain": [
              "<IPython.core.display.HTML object>"
            ]
          },
          "metadata": {},
          "output_type": "display_data"
        },
        {
          "data": {
            "text/html": [
              "<html><head></head><body><h2><ruby><rb>开放</rb><rt>kāifàng</rt> <ruby></h2></body></html>"
            ],
            "text/plain": [
              "<IPython.core.display.HTML object>"
            ]
          },
          "metadata": {},
          "output_type": "display_data"
        },
        {
          "data": {
            "text/html": [
              "<html><head></head><body><h2><ruby><rb> </rb><rt> </rt> <ruby></h2></body></html>"
            ],
            "text/plain": [
              "<IPython.core.display.HTML object>"
            ]
          },
          "metadata": {},
          "output_type": "display_data"
        }
      ],
      "source": [
        "print(\"Parts of speech:\")\n",
        "term_list = []\n",
        "py_list = []\n",
        "tp_list = []\n",
        "td_list = []\n",
        "trans_list = []\n",
        "\n",
        "for token in doc:\n",
        "    try:\n",
        "        translated = str(GoogleTranslator(source='auto', target='en').translate(token.text))\n",
        "    except:\n",
        "        translated = \"  \"\n",
        "\n",
        "    term_list.append(token)\n",
        "    py_list.append(pinyin.get(token.text))\n",
        "    tp_list.append(token.pos_)\n",
        "    td_list.append(token.dep_)\n",
        "    trans_list.append(translated)\n",
        "    data = {'Term': term_list,\n",
        "        'Pinyin': py_list,\n",
        "        'Translation': trans_list,\n",
        "        'POS': tp_list,\n",
        "        'POS details': td_list\n",
        "        }\n",
        "df = pd.DataFrame(data)\n",
        "print (df)\n",
        "\n",
        "for token in doc:\n",
        "    tester = str(token.pos_)\n",
        "    if tester == \"PUNCT\":\n",
        "        my_token = \" \"\n",
        "        my_pinyin = \" \"\n",
        "    else:\n",
        "        my_token = str(token)\n",
        "        my_pinyin = str(pinyin.get(token.text))\n",
        "    example = '<html><head></head><body><h2><ruby><rb>'+my_token+'</rb><rt>'+my_pinyin+'</rt> <ruby>'+ '</h2></body></html>'\n",
        "    display(HTML(example))"
      ]
    },
    {
      "cell_type": "code",
      "execution_count": null,
      "metadata": {
        "scrolled": true,
        "id": "_oqOBWVZAaAt",
        "outputId": "422c25da-3e16-43f3-f738-5c73f318600a"
      },
      "outputs": [
        {
          "data": {
            "text/html": [
              "<span class=\"tex2jax_ignore\"><svg xmlns=\"http://www.w3.org/2000/svg\" xmlns:xlink=\"http://www.w3.org/1999/xlink\" xml:lang=\"zh\" id=\"b5da89c2f60a41c7acdda08e7185d5d5-0\" class=\"displacy\" width=\"925\" height=\"399.5\" direction=\"ltr\" style=\"max-width: none; height: 399.5px; color: #000000; background: #ffffff; font-family: Arial; direction: ltr\">\n",
              "<text class=\"displacy-token\" fill=\"currentColor\" text-anchor=\"middle\" y=\"309.5\">\n",
              "    <tspan class=\"displacy-word\" fill=\"currentColor\" x=\"50\">老师</tspan>\n",
              "    <tspan class=\"displacy-tag\" dy=\"2em\" fill=\"currentColor\" x=\"50\">NOUN</tspan>\n",
              "</text>\n",
              "\n",
              "<text class=\"displacy-token\" fill=\"currentColor\" text-anchor=\"middle\" y=\"309.5\">\n",
              "    <tspan class=\"displacy-word\" fill=\"currentColor\" x=\"225\">给</tspan>\n",
              "    <tspan class=\"displacy-tag\" dy=\"2em\" fill=\"currentColor\" x=\"225\">VERB</tspan>\n",
              "</text>\n",
              "\n",
              "<text class=\"displacy-token\" fill=\"currentColor\" text-anchor=\"middle\" y=\"309.5\">\n",
              "    <tspan class=\"displacy-word\" fill=\"currentColor\" x=\"400\">学生</tspan>\n",
              "    <tspan class=\"displacy-tag\" dy=\"2em\" fill=\"currentColor\" x=\"400\">NOUN</tspan>\n",
              "</text>\n",
              "\n",
              "<text class=\"displacy-token\" fill=\"currentColor\" text-anchor=\"middle\" y=\"309.5\">\n",
              "    <tspan class=\"displacy-word\" fill=\"currentColor\" x=\"575\">一个</tspan>\n",
              "    <tspan class=\"displacy-tag\" dy=\"2em\" fill=\"currentColor\" x=\"575\">NUM</tspan>\n",
              "</text>\n",
              "\n",
              "<text class=\"displacy-token\" fill=\"currentColor\" text-anchor=\"middle\" y=\"309.5\">\n",
              "    <tspan class=\"displacy-word\" fill=\"currentColor\" x=\"750\">例子</tspan>\n",
              "    <tspan class=\"displacy-tag\" dy=\"2em\" fill=\"currentColor\" x=\"750\">NOUN</tspan>\n",
              "</text>\n",
              "\n",
              "<g class=\"displacy-arrow\">\n",
              "    <path class=\"displacy-arc\" id=\"arrow-b5da89c2f60a41c7acdda08e7185d5d5-0-0\" stroke-width=\"2px\" d=\"M70,264.5 C70,177.0 215.0,177.0 215.0,264.5\" fill=\"none\" stroke=\"currentColor\"/>\n",
              "    <text dy=\"1.25em\" style=\"font-size: 0.8em; letter-spacing: 1px\">\n",
              "        <textPath xlink:href=\"#arrow-b5da89c2f60a41c7acdda08e7185d5d5-0-0\" class=\"displacy-label\" startOffset=\"50%\" side=\"left\" fill=\"currentColor\" text-anchor=\"middle\">nsubj</textPath>\n",
              "    </text>\n",
              "    <path class=\"displacy-arrowhead\" d=\"M70,266.5 L62,254.5 78,254.5\" fill=\"currentColor\"/>\n",
              "</g>\n",
              "\n",
              "<g class=\"displacy-arrow\">\n",
              "    <path class=\"displacy-arc\" id=\"arrow-b5da89c2f60a41c7acdda08e7185d5d5-0-1\" stroke-width=\"2px\" d=\"M245,264.5 C245,177.0 390.0,177.0 390.0,264.5\" fill=\"none\" stroke=\"currentColor\"/>\n",
              "    <text dy=\"1.25em\" style=\"font-size: 0.8em; letter-spacing: 1px\">\n",
              "        <textPath xlink:href=\"#arrow-b5da89c2f60a41c7acdda08e7185d5d5-0-1\" class=\"displacy-label\" startOffset=\"50%\" side=\"left\" fill=\"currentColor\" text-anchor=\"middle\">dobj</textPath>\n",
              "    </text>\n",
              "    <path class=\"displacy-arrowhead\" d=\"M390.0,266.5 L398.0,254.5 382.0,254.5\" fill=\"currentColor\"/>\n",
              "</g>\n",
              "\n",
              "<g class=\"displacy-arrow\">\n",
              "    <path class=\"displacy-arc\" id=\"arrow-b5da89c2f60a41c7acdda08e7185d5d5-0-2\" stroke-width=\"2px\" d=\"M245,264.5 C245,89.5 570.0,89.5 570.0,264.5\" fill=\"none\" stroke=\"currentColor\"/>\n",
              "    <text dy=\"1.25em\" style=\"font-size: 0.8em; letter-spacing: 1px\">\n",
              "        <textPath xlink:href=\"#arrow-b5da89c2f60a41c7acdda08e7185d5d5-0-2\" class=\"displacy-label\" startOffset=\"50%\" side=\"left\" fill=\"currentColor\" text-anchor=\"middle\">dep</textPath>\n",
              "    </text>\n",
              "    <path class=\"displacy-arrowhead\" d=\"M570.0,266.5 L578.0,254.5 562.0,254.5\" fill=\"currentColor\"/>\n",
              "</g>\n",
              "\n",
              "<g class=\"displacy-arrow\">\n",
              "    <path class=\"displacy-arc\" id=\"arrow-b5da89c2f60a41c7acdda08e7185d5d5-0-3\" stroke-width=\"2px\" d=\"M245,264.5 C245,2.0 750.0,2.0 750.0,264.5\" fill=\"none\" stroke=\"currentColor\"/>\n",
              "    <text dy=\"1.25em\" style=\"font-size: 0.8em; letter-spacing: 1px\">\n",
              "        <textPath xlink:href=\"#arrow-b5da89c2f60a41c7acdda08e7185d5d5-0-3\" class=\"displacy-label\" startOffset=\"50%\" side=\"left\" fill=\"currentColor\" text-anchor=\"middle\">dobj</textPath>\n",
              "    </text>\n",
              "    <path class=\"displacy-arrowhead\" d=\"M750.0,266.5 L758.0,254.5 742.0,254.5\" fill=\"currentColor\"/>\n",
              "</g>\n",
              "</svg></span>"
            ],
            "text/plain": [
              "<IPython.core.display.HTML object>"
            ]
          },
          "metadata": {},
          "output_type": "display_data"
        },
        {
          "data": {
            "text/html": [
              "<span class=\"tex2jax_ignore\"><svg xmlns=\"http://www.w3.org/2000/svg\" xmlns:xlink=\"http://www.w3.org/1999/xlink\" xml:lang=\"zh\" id=\"f1012425171245cf8d931531ace32dbb-0\" class=\"displacy\" width=\"650\" height=\"317.0\" direction=\"ltr\" style=\"max-width: none; height: 317.0px; color: white; background: #09a3d5; font-family: Source Sans Pro; direction: ltr\">\n",
              "<text class=\"displacy-token\" fill=\"currentColor\" text-anchor=\"middle\" y=\"227.0\">\n",
              "    <tspan class=\"displacy-word\" fill=\"currentColor\" x=\"50\">老师</tspan>\n",
              "    <tspan class=\"displacy-tag\" dy=\"2em\" fill=\"currentColor\" x=\"50\">NOUN</tspan>\n",
              "</text>\n",
              "\n",
              "<text class=\"displacy-token\" fill=\"currentColor\" text-anchor=\"middle\" y=\"227.0\">\n",
              "    <tspan class=\"displacy-word\" fill=\"currentColor\" x=\"170\">给</tspan>\n",
              "    <tspan class=\"displacy-tag\" dy=\"2em\" fill=\"currentColor\" x=\"170\">VERB</tspan>\n",
              "</text>\n",
              "\n",
              "<text class=\"displacy-token\" fill=\"currentColor\" text-anchor=\"middle\" y=\"227.0\">\n",
              "    <tspan class=\"displacy-word\" fill=\"currentColor\" x=\"290\">学生</tspan>\n",
              "    <tspan class=\"displacy-tag\" dy=\"2em\" fill=\"currentColor\" x=\"290\">NOUN</tspan>\n",
              "</text>\n",
              "\n",
              "<text class=\"displacy-token\" fill=\"currentColor\" text-anchor=\"middle\" y=\"227.0\">\n",
              "    <tspan class=\"displacy-word\" fill=\"currentColor\" x=\"410\">一个</tspan>\n",
              "    <tspan class=\"displacy-tag\" dy=\"2em\" fill=\"currentColor\" x=\"410\">NUM</tspan>\n",
              "</text>\n",
              "\n",
              "<text class=\"displacy-token\" fill=\"currentColor\" text-anchor=\"middle\" y=\"227.0\">\n",
              "    <tspan class=\"displacy-word\" fill=\"currentColor\" x=\"530\">例子</tspan>\n",
              "    <tspan class=\"displacy-tag\" dy=\"2em\" fill=\"currentColor\" x=\"530\">NOUN</tspan>\n",
              "</text>\n",
              "\n",
              "<g class=\"displacy-arrow\">\n",
              "    <path class=\"displacy-arc\" id=\"arrow-f1012425171245cf8d931531ace32dbb-0-0\" stroke-width=\"2px\" d=\"M62,182.0 62,162.0 164.0,162.0 164.0,182.0\" fill=\"none\" stroke=\"currentColor\"/>\n",
              "    <text dy=\"1.25em\" style=\"font-size: 0.8em; letter-spacing: 1px\">\n",
              "        <textPath xlink:href=\"#arrow-f1012425171245cf8d931531ace32dbb-0-0\" class=\"displacy-label\" startOffset=\"50%\" side=\"left\" fill=\"currentColor\" text-anchor=\"middle\">nsubj</textPath>\n",
              "    </text>\n",
              "    <path class=\"displacy-arrowhead\" d=\"M62,184.0 L58,176.0 66,176.0\" fill=\"currentColor\"/>\n",
              "</g>\n",
              "\n",
              "<g class=\"displacy-arrow\">\n",
              "    <path class=\"displacy-arc\" id=\"arrow-f1012425171245cf8d931531ace32dbb-0-1\" stroke-width=\"2px\" d=\"M182,182.0 182,162.0 284.0,162.0 284.0,182.0\" fill=\"none\" stroke=\"currentColor\"/>\n",
              "    <text dy=\"1.25em\" style=\"font-size: 0.8em; letter-spacing: 1px\">\n",
              "        <textPath xlink:href=\"#arrow-f1012425171245cf8d931531ace32dbb-0-1\" class=\"displacy-label\" startOffset=\"50%\" side=\"left\" fill=\"currentColor\" text-anchor=\"middle\">dobj</textPath>\n",
              "    </text>\n",
              "    <path class=\"displacy-arrowhead\" d=\"M284.0,184.0 L288.0,176.0 280.0,176.0\" fill=\"currentColor\"/>\n",
              "</g>\n",
              "\n",
              "<g class=\"displacy-arrow\">\n",
              "    <path class=\"displacy-arc\" id=\"arrow-f1012425171245cf8d931531ace32dbb-0-2\" stroke-width=\"2px\" d=\"M182,182.0 182,142.0 407.0,142.0 407.0,182.0\" fill=\"none\" stroke=\"currentColor\"/>\n",
              "    <text dy=\"1.25em\" style=\"font-size: 0.8em; letter-spacing: 1px\">\n",
              "        <textPath xlink:href=\"#arrow-f1012425171245cf8d931531ace32dbb-0-2\" class=\"displacy-label\" startOffset=\"50%\" side=\"left\" fill=\"currentColor\" text-anchor=\"middle\">dep</textPath>\n",
              "    </text>\n",
              "    <path class=\"displacy-arrowhead\" d=\"M407.0,184.0 L411.0,176.0 403.0,176.0\" fill=\"currentColor\"/>\n",
              "</g>\n",
              "\n",
              "<g class=\"displacy-arrow\">\n",
              "    <path class=\"displacy-arc\" id=\"arrow-f1012425171245cf8d931531ace32dbb-0-3\" stroke-width=\"2px\" d=\"M182,182.0 182,122.0 530.0,122.0 530.0,182.0\" fill=\"none\" stroke=\"currentColor\"/>\n",
              "    <text dy=\"1.25em\" style=\"font-size: 0.8em; letter-spacing: 1px\">\n",
              "        <textPath xlink:href=\"#arrow-f1012425171245cf8d931531ace32dbb-0-3\" class=\"displacy-label\" startOffset=\"50%\" side=\"left\" fill=\"currentColor\" text-anchor=\"middle\">dobj</textPath>\n",
              "    </text>\n",
              "    <path class=\"displacy-arrowhead\" d=\"M530.0,184.0 L534.0,176.0 526.0,176.0\" fill=\"currentColor\"/>\n",
              "</g>\n",
              "</svg></span>"
            ],
            "text/plain": [
              "<IPython.core.display.HTML object>"
            ]
          },
          "metadata": {},
          "output_type": "display_data"
        }
      ],
      "source": [
        "doc2 = nlp('老师给学生一个例子')\n",
        "displacy.render(doc2, style=\"dep\")\n",
        "\n",
        "options = {\"compact\": True, \"bg\": \"#09a3d5\",\n",
        "           \"color\": \"white\", \"font\": \"Source Sans Pro\",\n",
        "          \"distance\": 120}\n",
        "displacy.render(doc2, style=\"dep\", options=options)\n",
        "\n"
      ]
    },
    {
      "cell_type": "code",
      "execution_count": null,
      "metadata": {
        "id": "gfDBGS4oAaAu",
        "outputId": "742474d2-ffca-4564-8790-680bf0db4e72"
      },
      "outputs": [
        {
          "data": {
            "text/html": [
              "<span class=\"tex2jax_ignore\"><!DOCTYPE html>\n",
              "<html lang=\"zh\">\n",
              "    <head>\n",
              "        <title>displaCy</title>\n",
              "    </head>\n",
              "\n",
              "    <body style=\"font-size: 16px; font-family: -apple-system, BlinkMacSystemFont, 'Segoe UI', Helvetica, Arial, sans-serif, 'Apple Color Emoji', 'Segoe UI Emoji', 'Segoe UI Symbol'; padding: 4rem 2rem; direction: ltr\">\n",
              "<figure style=\"margin-bottom: 6rem\">\n",
              "<svg xmlns=\"http://www.w3.org/2000/svg\" xmlns:xlink=\"http://www.w3.org/1999/xlink\" xml:lang=\"zh\" id=\"93226a05c289410fad0f880bbcb18fd9-0\" class=\"displacy\" width=\"6290\" height=\"857.0\" direction=\"ltr\" style=\"max-width: none; height: 857.0px; color: white; background: #09a3d5; font-family: Source Sans Pro; direction: ltr\">\n",
              "<text class=\"displacy-token\" fill=\"currentColor\" text-anchor=\"middle\" y=\"767.0\">\n",
              "    <tspan class=\"displacy-word\" fill=\"currentColor\" x=\"50\">新京</tspan>\n",
              "    <tspan class=\"displacy-tag\" dy=\"2em\" fill=\"currentColor\" x=\"50\">PROPN</tspan>\n",
              "</text>\n",
              "\n",
              "<text class=\"displacy-token\" fill=\"currentColor\" text-anchor=\"middle\" y=\"767.0\">\n",
              "    <tspan class=\"displacy-word\" fill=\"currentColor\" x=\"170\">报讯（</tspan>\n",
              "    <tspan class=\"displacy-tag\" dy=\"2em\" fill=\"currentColor\" x=\"170\">VERB</tspan>\n",
              "</text>\n",
              "\n",
              "<text class=\"displacy-token\" fill=\"currentColor\" text-anchor=\"middle\" y=\"767.0\">\n",
              "    <tspan class=\"displacy-word\" fill=\"currentColor\" x=\"290\">记者</tspan>\n",
              "    <tspan class=\"displacy-tag\" dy=\"2em\" fill=\"currentColor\" x=\"290\">NOUN</tspan>\n",
              "</text>\n",
              "\n",
              "<text class=\"displacy-token\" fill=\"currentColor\" text-anchor=\"middle\" y=\"767.0\">\n",
              "    <tspan class=\"displacy-word\" fill=\"currentColor\" x=\"410\">张畅）</tspan>\n",
              "    <tspan class=\"displacy-tag\" dy=\"2em\" fill=\"currentColor\" x=\"410\">PROPN</tspan>\n",
              "</text>\n",
              "\n",
              "<text class=\"displacy-token\" fill=\"currentColor\" text-anchor=\"middle\" y=\"767.0\">\n",
              "    <tspan class=\"displacy-word\" fill=\"currentColor\" x=\"530\">11月</tspan>\n",
              "    <tspan class=\"displacy-tag\" dy=\"2em\" fill=\"currentColor\" x=\"530\">NOUN</tspan>\n",
              "</text>\n",
              "\n",
              "<text class=\"displacy-token\" fill=\"currentColor\" text-anchor=\"middle\" y=\"767.0\">\n",
              "    <tspan class=\"displacy-word\" fill=\"currentColor\" x=\"650\">29日，</tspan>\n",
              "    <tspan class=\"displacy-tag\" dy=\"2em\" fill=\"currentColor\" x=\"650\">NOUN</tspan>\n",
              "</text>\n",
              "\n",
              "<text class=\"displacy-token\" fill=\"currentColor\" text-anchor=\"middle\" y=\"767.0\">\n",
              "    <tspan class=\"displacy-word\" fill=\"currentColor\" x=\"770\">故宫</tspan>\n",
              "    <tspan class=\"displacy-tag\" dy=\"2em\" fill=\"currentColor\" x=\"770\">PROPN</tspan>\n",
              "</text>\n",
              "\n",
              "<text class=\"displacy-token\" fill=\"currentColor\" text-anchor=\"middle\" y=\"767.0\">\n",
              "    <tspan class=\"displacy-word\" fill=\"currentColor\" x=\"890\">发布</tspan>\n",
              "    <tspan class=\"displacy-tag\" dy=\"2em\" fill=\"currentColor\" x=\"890\">VERB</tspan>\n",
              "</text>\n",
              "\n",
              "<text class=\"displacy-token\" fill=\"currentColor\" text-anchor=\"middle\" y=\"767.0\">\n",
              "    <tspan class=\"displacy-word\" fill=\"currentColor\" x=\"1010\">消息</tspan>\n",
              "    <tspan class=\"displacy-tag\" dy=\"2em\" fill=\"currentColor\" x=\"1010\">NOUN</tspan>\n",
              "</text>\n",
              "\n",
              "<text class=\"displacy-token\" fill=\"currentColor\" text-anchor=\"middle\" y=\"767.0\">\n",
              "    <tspan class=\"displacy-word\" fill=\"currentColor\" x=\"1130\">称，</tspan>\n",
              "    <tspan class=\"displacy-tag\" dy=\"2em\" fill=\"currentColor\" x=\"1130\">VERB</tspan>\n",
              "</text>\n",
              "\n",
              "<text class=\"displacy-token\" fill=\"currentColor\" text-anchor=\"middle\" y=\"767.0\">\n",
              "    <tspan class=\"displacy-word\" fill=\"currentColor\" x=\"1250\">为</tspan>\n",
              "    <tspan class=\"displacy-tag\" dy=\"2em\" fill=\"currentColor\" x=\"1250\">ADP</tspan>\n",
              "</text>\n",
              "\n",
              "<text class=\"displacy-token\" fill=\"currentColor\" text-anchor=\"middle\" y=\"767.0\">\n",
              "    <tspan class=\"displacy-word\" fill=\"currentColor\" x=\"1370\">进一步</tspan>\n",
              "    <tspan class=\"displacy-tag\" dy=\"2em\" fill=\"currentColor\" x=\"1370\">ADV</tspan>\n",
              "</text>\n",
              "\n",
              "<text class=\"displacy-token\" fill=\"currentColor\" text-anchor=\"middle\" y=\"767.0\">\n",
              "    <tspan class=\"displacy-word\" fill=\"currentColor\" x=\"1490\">贯彻</tspan>\n",
              "    <tspan class=\"displacy-tag\" dy=\"2em\" fill=\"currentColor\" x=\"1490\">VERB</tspan>\n",
              "</text>\n",
              "\n",
              "<text class=\"displacy-token\" fill=\"currentColor\" text-anchor=\"middle\" y=\"767.0\">\n",
              "    <tspan class=\"displacy-word\" fill=\"currentColor\" x=\"1610\">落实《</tspan>\n",
              "    <tspan class=\"displacy-tag\" dy=\"2em\" fill=\"currentColor\" x=\"1610\">VERB</tspan>\n",
              "</text>\n",
              "\n",
              "<text class=\"displacy-token\" fill=\"currentColor\" text-anchor=\"middle\" y=\"767.0\">\n",
              "    <tspan class=\"displacy-word\" fill=\"currentColor\" x=\"1730\">中华</tspan>\n",
              "    <tspan class=\"displacy-tag\" dy=\"2em\" fill=\"currentColor\" x=\"1730\">PROPN</tspan>\n",
              "</text>\n",
              "\n",
              "<text class=\"displacy-token\" fill=\"currentColor\" text-anchor=\"middle\" y=\"767.0\">\n",
              "    <tspan class=\"displacy-word\" fill=\"currentColor\" x=\"1850\">人民</tspan>\n",
              "    <tspan class=\"displacy-tag\" dy=\"2em\" fill=\"currentColor\" x=\"1850\">NOUN</tspan>\n",
              "</text>\n",
              "\n",
              "<text class=\"displacy-token\" fill=\"currentColor\" text-anchor=\"middle\" y=\"767.0\">\n",
              "    <tspan class=\"displacy-word\" fill=\"currentColor\" x=\"1970\">共和国</tspan>\n",
              "    <tspan class=\"displacy-tag\" dy=\"2em\" fill=\"currentColor\" x=\"1970\">NOUN</tspan>\n",
              "</text>\n",
              "\n",
              "<text class=\"displacy-token\" fill=\"currentColor\" text-anchor=\"middle\" y=\"767.0\">\n",
              "    <tspan class=\"displacy-word\" fill=\"currentColor\" x=\"2090\">未成年人</tspan>\n",
              "    <tspan class=\"displacy-tag\" dy=\"2em\" fill=\"currentColor\" x=\"2090\">NOUN</tspan>\n",
              "</text>\n",
              "\n",
              "<text class=\"displacy-token\" fill=\"currentColor\" text-anchor=\"middle\" y=\"767.0\">\n",
              "    <tspan class=\"displacy-word\" fill=\"currentColor\" x=\"2210\">保护法》，</tspan>\n",
              "    <tspan class=\"displacy-tag\" dy=\"2em\" fill=\"currentColor\" x=\"2210\">NOUN</tspan>\n",
              "</text>\n",
              "\n",
              "<text class=\"displacy-token\" fill=\"currentColor\" text-anchor=\"middle\" y=\"767.0\">\n",
              "    <tspan class=\"displacy-word\" fill=\"currentColor\" x=\"2330\">故宫</tspan>\n",
              "    <tspan class=\"displacy-tag\" dy=\"2em\" fill=\"currentColor\" x=\"2330\">PROPN</tspan>\n",
              "</text>\n",
              "\n",
              "<text class=\"displacy-token\" fill=\"currentColor\" text-anchor=\"middle\" y=\"767.0\">\n",
              "    <tspan class=\"displacy-word\" fill=\"currentColor\" x=\"2450\">博物院</tspan>\n",
              "    <tspan class=\"displacy-tag\" dy=\"2em\" fill=\"currentColor\" x=\"2450\">NOUN</tspan>\n",
              "</text>\n",
              "\n",
              "<text class=\"displacy-token\" fill=\"currentColor\" text-anchor=\"middle\" y=\"767.0\">\n",
              "    <tspan class=\"displacy-word\" fill=\"currentColor\" x=\"2570\">决定</tspan>\n",
              "    <tspan class=\"displacy-tag\" dy=\"2em\" fill=\"currentColor\" x=\"2570\">VERB</tspan>\n",
              "</text>\n",
              "\n",
              "<text class=\"displacy-token\" fill=\"currentColor\" text-anchor=\"middle\" y=\"767.0\">\n",
              "    <tspan class=\"displacy-word\" fill=\"currentColor\" x=\"2690\">在</tspan>\n",
              "    <tspan class=\"displacy-tag\" dy=\"2em\" fill=\"currentColor\" x=\"2690\">ADP</tspan>\n",
              "</text>\n",
              "\n",
              "<text class=\"displacy-token\" fill=\"currentColor\" text-anchor=\"middle\" y=\"767.0\">\n",
              "    <tspan class=\"displacy-word\" fill=\"currentColor\" x=\"2810\">原有</tspan>\n",
              "    <tspan class=\"displacy-tag\" dy=\"2em\" fill=\"currentColor\" x=\"2810\">ADJ</tspan>\n",
              "</text>\n",
              "\n",
              "<text class=\"displacy-token\" fill=\"currentColor\" text-anchor=\"middle\" y=\"767.0\">\n",
              "    <tspan class=\"displacy-word\" fill=\"currentColor\" x=\"2930\">6</tspan>\n",
              "    <tspan class=\"displacy-tag\" dy=\"2em\" fill=\"currentColor\" x=\"2930\">NUM</tspan>\n",
              "</text>\n",
              "\n",
              "<text class=\"displacy-token\" fill=\"currentColor\" text-anchor=\"middle\" y=\"767.0\">\n",
              "    <tspan class=\"displacy-word\" fill=\"currentColor\" x=\"3050\">岁</tspan>\n",
              "    <tspan class=\"displacy-tag\" dy=\"2em\" fill=\"currentColor\" x=\"3050\">NUM</tspan>\n",
              "</text>\n",
              "\n",
              "<text class=\"displacy-token\" fill=\"currentColor\" text-anchor=\"middle\" y=\"767.0\">\n",
              "    <tspan class=\"displacy-word\" fill=\"currentColor\" x=\"3170\">以下</tspan>\n",
              "    <tspan class=\"displacy-tag\" dy=\"2em\" fill=\"currentColor\" x=\"3170\">PART</tspan>\n",
              "</text>\n",
              "\n",
              "<text class=\"displacy-token\" fill=\"currentColor\" text-anchor=\"middle\" y=\"767.0\">\n",
              "    <tspan class=\"displacy-word\" fill=\"currentColor\" x=\"3290\">或</tspan>\n",
              "    <tspan class=\"displacy-tag\" dy=\"2em\" fill=\"currentColor\" x=\"3290\">CCONJ</tspan>\n",
              "</text>\n",
              "\n",
              "<text class=\"displacy-token\" fill=\"currentColor\" text-anchor=\"middle\" y=\"767.0\">\n",
              "    <tspan class=\"displacy-word\" fill=\"currentColor\" x=\"3410\">身高</tspan>\n",
              "    <tspan class=\"displacy-tag\" dy=\"2em\" fill=\"currentColor\" x=\"3410\">NOUN</tspan>\n",
              "</text>\n",
              "\n",
              "<text class=\"displacy-token\" fill=\"currentColor\" text-anchor=\"middle\" y=\"767.0\">\n",
              "    <tspan class=\"displacy-word\" fill=\"currentColor\" x=\"3530\">1.2</tspan>\n",
              "    <tspan class=\"displacy-tag\" dy=\"2em\" fill=\"currentColor\" x=\"3530\">NUM</tspan>\n",
              "</text>\n",
              "\n",
              "<text class=\"displacy-token\" fill=\"currentColor\" text-anchor=\"middle\" y=\"767.0\">\n",
              "    <tspan class=\"displacy-word\" fill=\"currentColor\" x=\"3650\">米</tspan>\n",
              "    <tspan class=\"displacy-tag\" dy=\"2em\" fill=\"currentColor\" x=\"3650\">NUM</tspan>\n",
              "</text>\n",
              "\n",
              "<text class=\"displacy-token\" fill=\"currentColor\" text-anchor=\"middle\" y=\"767.0\">\n",
              "    <tspan class=\"displacy-word\" fill=\"currentColor\" x=\"3770\">以下</tspan>\n",
              "    <tspan class=\"displacy-tag\" dy=\"2em\" fill=\"currentColor\" x=\"3770\">PART</tspan>\n",
              "</text>\n",
              "\n",
              "<text class=\"displacy-token\" fill=\"currentColor\" text-anchor=\"middle\" y=\"767.0\">\n",
              "    <tspan class=\"displacy-word\" fill=\"currentColor\" x=\"3890\">儿童，</tspan>\n",
              "    <tspan class=\"displacy-tag\" dy=\"2em\" fill=\"currentColor\" x=\"3890\">NOUN</tspan>\n",
              "</text>\n",
              "\n",
              "<text class=\"displacy-token\" fill=\"currentColor\" text-anchor=\"middle\" y=\"767.0\">\n",
              "    <tspan class=\"displacy-word\" fill=\"currentColor\" x=\"4010\">以及</tspan>\n",
              "    <tspan class=\"displacy-tag\" dy=\"2em\" fill=\"currentColor\" x=\"4010\">CCONJ</tspan>\n",
              "</text>\n",
              "\n",
              "<text class=\"displacy-token\" fill=\"currentColor\" text-anchor=\"middle\" y=\"767.0\">\n",
              "    <tspan class=\"displacy-word\" fill=\"currentColor\" x=\"4130\">每</tspan>\n",
              "    <tspan class=\"displacy-tag\" dy=\"2em\" fill=\"currentColor\" x=\"4130\">DET</tspan>\n",
              "</text>\n",
              "\n",
              "<text class=\"displacy-token\" fill=\"currentColor\" text-anchor=\"middle\" y=\"767.0\">\n",
              "    <tspan class=\"displacy-word\" fill=\"currentColor\" x=\"4250\">周二</tspan>\n",
              "    <tspan class=\"displacy-tag\" dy=\"2em\" fill=\"currentColor\" x=\"4250\">NOUN</tspan>\n",
              "</text>\n",
              "\n",
              "<text class=\"displacy-token\" fill=\"currentColor\" text-anchor=\"middle\" y=\"767.0\">\n",
              "    <tspan class=\"displacy-word\" fill=\"currentColor\" x=\"4370\">统一</tspan>\n",
              "    <tspan class=\"displacy-tag\" dy=\"2em\" fill=\"currentColor\" x=\"4370\">ADV</tspan>\n",
              "</text>\n",
              "\n",
              "<text class=\"displacy-token\" fill=\"currentColor\" text-anchor=\"middle\" y=\"767.0\">\n",
              "    <tspan class=\"displacy-word\" fill=\"currentColor\" x=\"4490\">预约</tspan>\n",
              "    <tspan class=\"displacy-tag\" dy=\"2em\" fill=\"currentColor\" x=\"4490\">VERB</tspan>\n",
              "</text>\n",
              "\n",
              "<text class=\"displacy-token\" fill=\"currentColor\" text-anchor=\"middle\" y=\"767.0\">\n",
              "    <tspan class=\"displacy-word\" fill=\"currentColor\" x=\"4610\">的</tspan>\n",
              "    <tspan class=\"displacy-tag\" dy=\"2em\" fill=\"currentColor\" x=\"4610\">PART</tspan>\n",
              "</text>\n",
              "\n",
              "<text class=\"displacy-token\" fill=\"currentColor\" text-anchor=\"middle\" y=\"767.0\">\n",
              "    <tspan class=\"displacy-word\" fill=\"currentColor\" x=\"4730\">中小</tspan>\n",
              "    <tspan class=\"displacy-tag\" dy=\"2em\" fill=\"currentColor\" x=\"4730\">ADJ</tspan>\n",
              "</text>\n",
              "\n",
              "<text class=\"displacy-token\" fill=\"currentColor\" text-anchor=\"middle\" y=\"767.0\">\n",
              "    <tspan class=\"displacy-word\" fill=\"currentColor\" x=\"4850\">学生</tspan>\n",
              "    <tspan class=\"displacy-tag\" dy=\"2em\" fill=\"currentColor\" x=\"4850\">NOUN</tspan>\n",
              "</text>\n",
              "\n",
              "<text class=\"displacy-token\" fill=\"currentColor\" text-anchor=\"middle\" y=\"767.0\">\n",
              "    <tspan class=\"displacy-word\" fill=\"currentColor\" x=\"4970\">免费</tspan>\n",
              "    <tspan class=\"displacy-tag\" dy=\"2em\" fill=\"currentColor\" x=\"4970\">ADJ</tspan>\n",
              "</text>\n",
              "\n",
              "<text class=\"displacy-token\" fill=\"currentColor\" text-anchor=\"middle\" y=\"767.0\">\n",
              "    <tspan class=\"displacy-word\" fill=\"currentColor\" x=\"5090\">的</tspan>\n",
              "    <tspan class=\"displacy-tag\" dy=\"2em\" fill=\"currentColor\" x=\"5090\">PART</tspan>\n",
              "</text>\n",
              "\n",
              "<text class=\"displacy-token\" fill=\"currentColor\" text-anchor=\"middle\" y=\"767.0\">\n",
              "    <tspan class=\"displacy-word\" fill=\"currentColor\" x=\"5210\">基础</tspan>\n",
              "    <tspan class=\"displacy-tag\" dy=\"2em\" fill=\"currentColor\" x=\"5210\">NOUN</tspan>\n",
              "</text>\n",
              "\n",
              "<text class=\"displacy-token\" fill=\"currentColor\" text-anchor=\"middle\" y=\"767.0\">\n",
              "    <tspan class=\"displacy-word\" fill=\"currentColor\" x=\"5330\">上，</tspan>\n",
              "    <tspan class=\"displacy-tag\" dy=\"2em\" fill=\"currentColor\" x=\"5330\">PART</tspan>\n",
              "</text>\n",
              "\n",
              "<text class=\"displacy-token\" fill=\"currentColor\" text-anchor=\"middle\" y=\"767.0\">\n",
              "    <tspan class=\"displacy-word\" fill=\"currentColor\" x=\"5450\">试行</tspan>\n",
              "    <tspan class=\"displacy-tag\" dy=\"2em\" fill=\"currentColor\" x=\"5450\">VERB</tspan>\n",
              "</text>\n",
              "\n",
              "<text class=\"displacy-token\" fill=\"currentColor\" text-anchor=\"middle\" y=\"767.0\">\n",
              "    <tspan class=\"displacy-word\" fill=\"currentColor\" x=\"5570\">所有</tspan>\n",
              "    <tspan class=\"displacy-tag\" dy=\"2em\" fill=\"currentColor\" x=\"5570\">DET</tspan>\n",
              "</text>\n",
              "\n",
              "<text class=\"displacy-token\" fill=\"currentColor\" text-anchor=\"middle\" y=\"767.0\">\n",
              "    <tspan class=\"displacy-word\" fill=\"currentColor\" x=\"5690\">开放日</tspan>\n",
              "    <tspan class=\"displacy-tag\" dy=\"2em\" fill=\"currentColor\" x=\"5690\">NOUN</tspan>\n",
              "</text>\n",
              "\n",
              "<text class=\"displacy-token\" fill=\"currentColor\" text-anchor=\"middle\" y=\"767.0\">\n",
              "    <tspan class=\"displacy-word\" fill=\"currentColor\" x=\"5810\">对</tspan>\n",
              "    <tspan class=\"displacy-tag\" dy=\"2em\" fill=\"currentColor\" x=\"5810\">ADP</tspan>\n",
              "</text>\n",
              "\n",
              "<text class=\"displacy-token\" fill=\"currentColor\" text-anchor=\"middle\" y=\"767.0\">\n",
              "    <tspan class=\"displacy-word\" fill=\"currentColor\" x=\"5930\">未成年人</tspan>\n",
              "    <tspan class=\"displacy-tag\" dy=\"2em\" fill=\"currentColor\" x=\"5930\">NOUN</tspan>\n",
              "</text>\n",
              "\n",
              "<text class=\"displacy-token\" fill=\"currentColor\" text-anchor=\"middle\" y=\"767.0\">\n",
              "    <tspan class=\"displacy-word\" fill=\"currentColor\" x=\"6050\">免费</tspan>\n",
              "    <tspan class=\"displacy-tag\" dy=\"2em\" fill=\"currentColor\" x=\"6050\">ADV</tspan>\n",
              "</text>\n",
              "\n",
              "<text class=\"displacy-token\" fill=\"currentColor\" text-anchor=\"middle\" y=\"767.0\">\n",
              "    <tspan class=\"displacy-word\" fill=\"currentColor\" x=\"6170\">开放。</tspan>\n",
              "    <tspan class=\"displacy-tag\" dy=\"2em\" fill=\"currentColor\" x=\"6170\">VERB</tspan>\n",
              "</text>\n",
              "\n",
              "<g class=\"displacy-arrow\">\n",
              "    <path class=\"displacy-arc\" id=\"arrow-93226a05c289410fad0f880bbcb18fd9-0-0\" stroke-width=\"2px\" d=\"M62,722.0 62,702.0 137.0,702.0 137.0,722.0\" fill=\"none\" stroke=\"currentColor\"/>\n",
              "    <text dy=\"1.25em\" style=\"font-size: 0.8em; letter-spacing: 1px\">\n",
              "        <textPath xlink:href=\"#arrow-93226a05c289410fad0f880bbcb18fd9-0-0\" class=\"displacy-label\" startOffset=\"50%\" side=\"left\" fill=\"currentColor\" text-anchor=\"middle\">nsubj</textPath>\n",
              "    </text>\n",
              "    <path class=\"displacy-arrowhead\" d=\"M62,724.0 L58,716.0 66,716.0\" fill=\"currentColor\"/>\n",
              "</g>\n",
              "\n",
              "<g class=\"displacy-arrow\">\n",
              "    <path class=\"displacy-arc\" id=\"arrow-93226a05c289410fad0f880bbcb18fd9-0-1\" stroke-width=\"2px\" d=\"M182,722.0 182,702.0 257.0,702.0 257.0,722.0\" fill=\"none\" stroke=\"currentColor\"/>\n",
              "    <text dy=\"1.25em\" style=\"font-size: 0.8em; letter-spacing: 1px\">\n",
              "        <textPath xlink:href=\"#arrow-93226a05c289410fad0f880bbcb18fd9-0-1\" class=\"displacy-label\" startOffset=\"50%\" side=\"left\" fill=\"currentColor\" text-anchor=\"middle\">dep</textPath>\n",
              "    </text>\n",
              "    <path class=\"displacy-arrowhead\" d=\"M257.0,724.0 L261.0,716.0 253.0,716.0\" fill=\"currentColor\"/>\n",
              "</g>\n",
              "\n",
              "<g class=\"displacy-arrow\">\n",
              "    <path class=\"displacy-arc\" id=\"arrow-93226a05c289410fad0f880bbcb18fd9-0-2\" stroke-width=\"2px\" d=\"M302,722.0 302,702.0 377.0,702.0 377.0,722.0\" fill=\"none\" stroke=\"currentColor\"/>\n",
              "    <text dy=\"1.25em\" style=\"font-size: 0.8em; letter-spacing: 1px\">\n",
              "        <textPath xlink:href=\"#arrow-93226a05c289410fad0f880bbcb18fd9-0-2\" class=\"displacy-label\" startOffset=\"50%\" side=\"left\" fill=\"currentColor\" text-anchor=\"middle\">dep</textPath>\n",
              "    </text>\n",
              "    <path class=\"displacy-arrowhead\" d=\"M377.0,724.0 L381.0,716.0 373.0,716.0\" fill=\"currentColor\"/>\n",
              "</g>\n",
              "\n",
              "<g class=\"displacy-arrow\">\n",
              "    <path class=\"displacy-arc\" id=\"arrow-93226a05c289410fad0f880bbcb18fd9-0-3\" stroke-width=\"2px\" d=\"M542,722.0 542,702.0 617.0,702.0 617.0,722.0\" fill=\"none\" stroke=\"currentColor\"/>\n",
              "    <text dy=\"1.25em\" style=\"font-size: 0.8em; letter-spacing: 1px\">\n",
              "        <textPath xlink:href=\"#arrow-93226a05c289410fad0f880bbcb18fd9-0-3\" class=\"displacy-label\" startOffset=\"50%\" side=\"left\" fill=\"currentColor\" text-anchor=\"middle\">compound:nn</textPath>\n",
              "    </text>\n",
              "    <path class=\"displacy-arrowhead\" d=\"M542,724.0 L538,716.0 546,716.0\" fill=\"currentColor\"/>\n",
              "</g>\n",
              "\n",
              "<g class=\"displacy-arrow\">\n",
              "    <path class=\"displacy-arc\" id=\"arrow-93226a05c289410fad0f880bbcb18fd9-0-4\" stroke-width=\"2px\" d=\"M662,722.0 662,682.0 860.0,682.0 860.0,722.0\" fill=\"none\" stroke=\"currentColor\"/>\n",
              "    <text dy=\"1.25em\" style=\"font-size: 0.8em; letter-spacing: 1px\">\n",
              "        <textPath xlink:href=\"#arrow-93226a05c289410fad0f880bbcb18fd9-0-4\" class=\"displacy-label\" startOffset=\"50%\" side=\"left\" fill=\"currentColor\" text-anchor=\"middle\">nmod:tmod</textPath>\n",
              "    </text>\n",
              "    <path class=\"displacy-arrowhead\" d=\"M662,724.0 L658,716.0 666,716.0\" fill=\"currentColor\"/>\n",
              "</g>\n",
              "\n",
              "<g class=\"displacy-arrow\">\n",
              "    <path class=\"displacy-arc\" id=\"arrow-93226a05c289410fad0f880bbcb18fd9-0-5\" stroke-width=\"2px\" d=\"M782,722.0 782,702.0 857.0,702.0 857.0,722.0\" fill=\"none\" stroke=\"currentColor\"/>\n",
              "    <text dy=\"1.25em\" style=\"font-size: 0.8em; letter-spacing: 1px\">\n",
              "        <textPath xlink:href=\"#arrow-93226a05c289410fad0f880bbcb18fd9-0-5\" class=\"displacy-label\" startOffset=\"50%\" side=\"left\" fill=\"currentColor\" text-anchor=\"middle\">nsubj</textPath>\n",
              "    </text>\n",
              "    <path class=\"displacy-arrowhead\" d=\"M782,724.0 L778,716.0 786,716.0\" fill=\"currentColor\"/>\n",
              "</g>\n",
              "\n",
              "<g class=\"displacy-arrow\">\n",
              "    <path class=\"displacy-arc\" id=\"arrow-93226a05c289410fad0f880bbcb18fd9-0-6\" stroke-width=\"2px\" d=\"M1022,722.0 1022,702.0 1097.0,702.0 1097.0,722.0\" fill=\"none\" stroke=\"currentColor\"/>\n",
              "    <text dy=\"1.25em\" style=\"font-size: 0.8em; letter-spacing: 1px\">\n",
              "        <textPath xlink:href=\"#arrow-93226a05c289410fad0f880bbcb18fd9-0-6\" class=\"displacy-label\" startOffset=\"50%\" side=\"left\" fill=\"currentColor\" text-anchor=\"middle\">nsubj</textPath>\n",
              "    </text>\n",
              "    <path class=\"displacy-arrowhead\" d=\"M1022,724.0 L1018,716.0 1026,716.0\" fill=\"currentColor\"/>\n",
              "</g>\n",
              "\n",
              "<g class=\"displacy-arrow\">\n",
              "    <path class=\"displacy-arc\" id=\"arrow-93226a05c289410fad0f880bbcb18fd9-0-7\" stroke-width=\"2px\" d=\"M902,722.0 902,682.0 1100.0,682.0 1100.0,722.0\" fill=\"none\" stroke=\"currentColor\"/>\n",
              "    <text dy=\"1.25em\" style=\"font-size: 0.8em; letter-spacing: 1px\">\n",
              "        <textPath xlink:href=\"#arrow-93226a05c289410fad0f880bbcb18fd9-0-7\" class=\"displacy-label\" startOffset=\"50%\" side=\"left\" fill=\"currentColor\" text-anchor=\"middle\">conj</textPath>\n",
              "    </text>\n",
              "    <path class=\"displacy-arrowhead\" d=\"M1100.0,724.0 L1104.0,716.0 1096.0,716.0\" fill=\"currentColor\"/>\n",
              "</g>\n",
              "\n",
              "<g class=\"displacy-arrow\">\n",
              "    <path class=\"displacy-arc\" id=\"arrow-93226a05c289410fad0f880bbcb18fd9-0-8\" stroke-width=\"2px\" d=\"M1262,722.0 1262,682.0 1460.0,682.0 1460.0,722.0\" fill=\"none\" stroke=\"currentColor\"/>\n",
              "    <text dy=\"1.25em\" style=\"font-size: 0.8em; letter-spacing: 1px\">\n",
              "        <textPath xlink:href=\"#arrow-93226a05c289410fad0f880bbcb18fd9-0-8\" class=\"displacy-label\" startOffset=\"50%\" side=\"left\" fill=\"currentColor\" text-anchor=\"middle\">case</textPath>\n",
              "    </text>\n",
              "    <path class=\"displacy-arrowhead\" d=\"M1262,724.0 L1258,716.0 1266,716.0\" fill=\"currentColor\"/>\n",
              "</g>\n",
              "\n",
              "<g class=\"displacy-arrow\">\n",
              "    <path class=\"displacy-arc\" id=\"arrow-93226a05c289410fad0f880bbcb18fd9-0-9\" stroke-width=\"2px\" d=\"M1382,722.0 1382,702.0 1457.0,702.0 1457.0,722.0\" fill=\"none\" stroke=\"currentColor\"/>\n",
              "    <text dy=\"1.25em\" style=\"font-size: 0.8em; letter-spacing: 1px\">\n",
              "        <textPath xlink:href=\"#arrow-93226a05c289410fad0f880bbcb18fd9-0-9\" class=\"displacy-label\" startOffset=\"50%\" side=\"left\" fill=\"currentColor\" text-anchor=\"middle\">advmod</textPath>\n",
              "    </text>\n",
              "    <path class=\"displacy-arrowhead\" d=\"M1382,724.0 L1378,716.0 1386,716.0\" fill=\"currentColor\"/>\n",
              "</g>\n",
              "\n",
              "<g class=\"displacy-arrow\">\n",
              "    <path class=\"displacy-arc\" id=\"arrow-93226a05c289410fad0f880bbcb18fd9-0-10\" stroke-width=\"2px\" d=\"M1142,722.0 1142,662.0 1463.0,662.0 1463.0,722.0\" fill=\"none\" stroke=\"currentColor\"/>\n",
              "    <text dy=\"1.25em\" style=\"font-size: 0.8em; letter-spacing: 1px\">\n",
              "        <textPath xlink:href=\"#arrow-93226a05c289410fad0f880bbcb18fd9-0-10\" class=\"displacy-label\" startOffset=\"50%\" side=\"left\" fill=\"currentColor\" text-anchor=\"middle\">ccomp</textPath>\n",
              "    </text>\n",
              "    <path class=\"displacy-arrowhead\" d=\"M1463.0,724.0 L1467.0,716.0 1459.0,716.0\" fill=\"currentColor\"/>\n",
              "</g>\n",
              "\n",
              "<g class=\"displacy-arrow\">\n",
              "    <path class=\"displacy-arc\" id=\"arrow-93226a05c289410fad0f880bbcb18fd9-0-11\" stroke-width=\"2px\" d=\"M1502,722.0 1502,702.0 1577.0,702.0 1577.0,722.0\" fill=\"none\" stroke=\"currentColor\"/>\n",
              "    <text dy=\"1.25em\" style=\"font-size: 0.8em; letter-spacing: 1px\">\n",
              "        <textPath xlink:href=\"#arrow-93226a05c289410fad0f880bbcb18fd9-0-11\" class=\"displacy-label\" startOffset=\"50%\" side=\"left\" fill=\"currentColor\" text-anchor=\"middle\">compound:vc</textPath>\n",
              "    </text>\n",
              "    <path class=\"displacy-arrowhead\" d=\"M1577.0,724.0 L1581.0,716.0 1573.0,716.0\" fill=\"currentColor\"/>\n",
              "</g>\n",
              "\n",
              "<g class=\"displacy-arrow\">\n",
              "    <path class=\"displacy-arc\" id=\"arrow-93226a05c289410fad0f880bbcb18fd9-0-12\" stroke-width=\"2px\" d=\"M1742,722.0 1742,682.0 1940.0,682.0 1940.0,722.0\" fill=\"none\" stroke=\"currentColor\"/>\n",
              "    <text dy=\"1.25em\" style=\"font-size: 0.8em; letter-spacing: 1px\">\n",
              "        <textPath xlink:href=\"#arrow-93226a05c289410fad0f880bbcb18fd9-0-12\" class=\"displacy-label\" startOffset=\"50%\" side=\"left\" fill=\"currentColor\" text-anchor=\"middle\">compound:nn</textPath>\n",
              "    </text>\n",
              "    <path class=\"displacy-arrowhead\" d=\"M1742,724.0 L1738,716.0 1746,716.0\" fill=\"currentColor\"/>\n",
              "</g>\n",
              "\n",
              "<g class=\"displacy-arrow\">\n",
              "    <path class=\"displacy-arc\" id=\"arrow-93226a05c289410fad0f880bbcb18fd9-0-13\" stroke-width=\"2px\" d=\"M1862,722.0 1862,702.0 1937.0,702.0 1937.0,722.0\" fill=\"none\" stroke=\"currentColor\"/>\n",
              "    <text dy=\"1.25em\" style=\"font-size: 0.8em; letter-spacing: 1px\">\n",
              "        <textPath xlink:href=\"#arrow-93226a05c289410fad0f880bbcb18fd9-0-13\" class=\"displacy-label\" startOffset=\"50%\" side=\"left\" fill=\"currentColor\" text-anchor=\"middle\">compound:nn</textPath>\n",
              "    </text>\n",
              "    <path class=\"displacy-arrowhead\" d=\"M1862,724.0 L1858,716.0 1866,716.0\" fill=\"currentColor\"/>\n",
              "</g>\n",
              "\n",
              "<g class=\"displacy-arrow\">\n",
              "    <path class=\"displacy-arc\" id=\"arrow-93226a05c289410fad0f880bbcb18fd9-0-14\" stroke-width=\"2px\" d=\"M1982,722.0 1982,682.0 2180.0,682.0 2180.0,722.0\" fill=\"none\" stroke=\"currentColor\"/>\n",
              "    <text dy=\"1.25em\" style=\"font-size: 0.8em; letter-spacing: 1px\">\n",
              "        <textPath xlink:href=\"#arrow-93226a05c289410fad0f880bbcb18fd9-0-14\" class=\"displacy-label\" startOffset=\"50%\" side=\"left\" fill=\"currentColor\" text-anchor=\"middle\">nmod:assmod</textPath>\n",
              "    </text>\n",
              "    <path class=\"displacy-arrowhead\" d=\"M1982,724.0 L1978,716.0 1986,716.0\" fill=\"currentColor\"/>\n",
              "</g>\n",
              "\n",
              "<g class=\"displacy-arrow\">\n",
              "    <path class=\"displacy-arc\" id=\"arrow-93226a05c289410fad0f880bbcb18fd9-0-15\" stroke-width=\"2px\" d=\"M2102,722.0 2102,702.0 2177.0,702.0 2177.0,722.0\" fill=\"none\" stroke=\"currentColor\"/>\n",
              "    <text dy=\"1.25em\" style=\"font-size: 0.8em; letter-spacing: 1px\">\n",
              "        <textPath xlink:href=\"#arrow-93226a05c289410fad0f880bbcb18fd9-0-15\" class=\"displacy-label\" startOffset=\"50%\" side=\"left\" fill=\"currentColor\" text-anchor=\"middle\">compound:nn</textPath>\n",
              "    </text>\n",
              "    <path class=\"displacy-arrowhead\" d=\"M2102,724.0 L2098,716.0 2106,716.0\" fill=\"currentColor\"/>\n",
              "</g>\n",
              "\n",
              "<g class=\"displacy-arrow\">\n",
              "    <path class=\"displacy-arc\" id=\"arrow-93226a05c289410fad0f880bbcb18fd9-0-16\" stroke-width=\"2px\" d=\"M1502,722.0 1502,602.0 2192.0,602.0 2192.0,722.0\" fill=\"none\" stroke=\"currentColor\"/>\n",
              "    <text dy=\"1.25em\" style=\"font-size: 0.8em; letter-spacing: 1px\">\n",
              "        <textPath xlink:href=\"#arrow-93226a05c289410fad0f880bbcb18fd9-0-16\" class=\"displacy-label\" startOffset=\"50%\" side=\"left\" fill=\"currentColor\" text-anchor=\"middle\">dobj</textPath>\n",
              "    </text>\n",
              "    <path class=\"displacy-arrowhead\" d=\"M2192.0,724.0 L2196.0,716.0 2188.0,716.0\" fill=\"currentColor\"/>\n",
              "</g>\n",
              "\n",
              "<g class=\"displacy-arrow\">\n",
              "    <path class=\"displacy-arc\" id=\"arrow-93226a05c289410fad0f880bbcb18fd9-0-17\" stroke-width=\"2px\" d=\"M2342,722.0 2342,702.0 2417.0,702.0 2417.0,722.0\" fill=\"none\" stroke=\"currentColor\"/>\n",
              "    <text dy=\"1.25em\" style=\"font-size: 0.8em; letter-spacing: 1px\">\n",
              "        <textPath xlink:href=\"#arrow-93226a05c289410fad0f880bbcb18fd9-0-17\" class=\"displacy-label\" startOffset=\"50%\" side=\"left\" fill=\"currentColor\" text-anchor=\"middle\">compound:nn</textPath>\n",
              "    </text>\n",
              "    <path class=\"displacy-arrowhead\" d=\"M2342,724.0 L2338,716.0 2346,716.0\" fill=\"currentColor\"/>\n",
              "</g>\n",
              "\n",
              "<g class=\"displacy-arrow\">\n",
              "    <path class=\"displacy-arc\" id=\"arrow-93226a05c289410fad0f880bbcb18fd9-0-18\" stroke-width=\"2px\" d=\"M2462,722.0 2462,702.0 2537.0,702.0 2537.0,722.0\" fill=\"none\" stroke=\"currentColor\"/>\n",
              "    <text dy=\"1.25em\" style=\"font-size: 0.8em; letter-spacing: 1px\">\n",
              "        <textPath xlink:href=\"#arrow-93226a05c289410fad0f880bbcb18fd9-0-18\" class=\"displacy-label\" startOffset=\"50%\" side=\"left\" fill=\"currentColor\" text-anchor=\"middle\">nsubj</textPath>\n",
              "    </text>\n",
              "    <path class=\"displacy-arrowhead\" d=\"M2462,724.0 L2458,716.0 2466,716.0\" fill=\"currentColor\"/>\n",
              "</g>\n",
              "\n",
              "<g class=\"displacy-arrow\">\n",
              "    <path class=\"displacy-arc\" id=\"arrow-93226a05c289410fad0f880bbcb18fd9-0-19\" stroke-width=\"2px\" d=\"M902,722.0 902,522.0 2564.0,522.0 2564.0,722.0\" fill=\"none\" stroke=\"currentColor\"/>\n",
              "    <text dy=\"1.25em\" style=\"font-size: 0.8em; letter-spacing: 1px\">\n",
              "        <textPath xlink:href=\"#arrow-93226a05c289410fad0f880bbcb18fd9-0-19\" class=\"displacy-label\" startOffset=\"50%\" side=\"left\" fill=\"currentColor\" text-anchor=\"middle\">conj</textPath>\n",
              "    </text>\n",
              "    <path class=\"displacy-arrowhead\" d=\"M2564.0,724.0 L2568.0,716.0 2560.0,716.0\" fill=\"currentColor\"/>\n",
              "</g>\n",
              "\n",
              "<g class=\"displacy-arrow\">\n",
              "    <path class=\"displacy-arc\" id=\"arrow-93226a05c289410fad0f880bbcb18fd9-0-20\" stroke-width=\"2px\" d=\"M2702,722.0 2702,502.0 5207.0,502.0 5207.0,722.0\" fill=\"none\" stroke=\"currentColor\"/>\n",
              "    <text dy=\"1.25em\" style=\"font-size: 0.8em; letter-spacing: 1px\">\n",
              "        <textPath xlink:href=\"#arrow-93226a05c289410fad0f880bbcb18fd9-0-20\" class=\"displacy-label\" startOffset=\"50%\" side=\"left\" fill=\"currentColor\" text-anchor=\"middle\">case</textPath>\n",
              "    </text>\n",
              "    <path class=\"displacy-arrowhead\" d=\"M2702,724.0 L2698,716.0 2706,716.0\" fill=\"currentColor\"/>\n",
              "</g>\n",
              "\n",
              "<g class=\"displacy-arrow\">\n",
              "    <path class=\"displacy-arc\" id=\"arrow-93226a05c289410fad0f880bbcb18fd9-0-21\" stroke-width=\"2px\" d=\"M2822,722.0 2822,562.0 3878.0,562.0 3878.0,722.0\" fill=\"none\" stroke=\"currentColor\"/>\n",
              "    <text dy=\"1.25em\" style=\"font-size: 0.8em; letter-spacing: 1px\">\n",
              "        <textPath xlink:href=\"#arrow-93226a05c289410fad0f880bbcb18fd9-0-21\" class=\"displacy-label\" startOffset=\"50%\" side=\"left\" fill=\"currentColor\" text-anchor=\"middle\">amod</textPath>\n",
              "    </text>\n",
              "    <path class=\"displacy-arrowhead\" d=\"M2822,724.0 L2818,716.0 2826,716.0\" fill=\"currentColor\"/>\n",
              "</g>\n",
              "\n",
              "<g class=\"displacy-arrow\">\n",
              "    <path class=\"displacy-arc\" id=\"arrow-93226a05c289410fad0f880bbcb18fd9-0-22\" stroke-width=\"2px\" d=\"M2822,722.0 2822,702.0 2897.0,702.0 2897.0,722.0\" fill=\"none\" stroke=\"currentColor\"/>\n",
              "    <text dy=\"1.25em\" style=\"font-size: 0.8em; letter-spacing: 1px\">\n",
              "        <textPath xlink:href=\"#arrow-93226a05c289410fad0f880bbcb18fd9-0-22\" class=\"displacy-label\" startOffset=\"50%\" side=\"left\" fill=\"currentColor\" text-anchor=\"middle\">dep</textPath>\n",
              "    </text>\n",
              "    <path class=\"displacy-arrowhead\" d=\"M2897.0,724.0 L2901.0,716.0 2893.0,716.0\" fill=\"currentColor\"/>\n",
              "</g>\n",
              "\n",
              "<g class=\"displacy-arrow\">\n",
              "    <path class=\"displacy-arc\" id=\"arrow-93226a05c289410fad0f880bbcb18fd9-0-23\" stroke-width=\"2px\" d=\"M2942,722.0 2942,702.0 3017.0,702.0 3017.0,722.0\" fill=\"none\" stroke=\"currentColor\"/>\n",
              "    <text dy=\"1.25em\" style=\"font-size: 0.8em; letter-spacing: 1px\">\n",
              "        <textPath xlink:href=\"#arrow-93226a05c289410fad0f880bbcb18fd9-0-23\" class=\"displacy-label\" startOffset=\"50%\" side=\"left\" fill=\"currentColor\" text-anchor=\"middle\">mark:clf</textPath>\n",
              "    </text>\n",
              "    <path class=\"displacy-arrowhead\" d=\"M3017.0,724.0 L3021.0,716.0 3013.0,716.0\" fill=\"currentColor\"/>\n",
              "</g>\n",
              "\n",
              "<g class=\"displacy-arrow\">\n",
              "    <path class=\"displacy-arc\" id=\"arrow-93226a05c289410fad0f880bbcb18fd9-0-24\" stroke-width=\"2px\" d=\"M2942,722.0 2942,682.0 3140.0,682.0 3140.0,722.0\" fill=\"none\" stroke=\"currentColor\"/>\n",
              "    <text dy=\"1.25em\" style=\"font-size: 0.8em; letter-spacing: 1px\">\n",
              "        <textPath xlink:href=\"#arrow-93226a05c289410fad0f880bbcb18fd9-0-24\" class=\"displacy-label\" startOffset=\"50%\" side=\"left\" fill=\"currentColor\" text-anchor=\"middle\">case</textPath>\n",
              "    </text>\n",
              "    <path class=\"displacy-arrowhead\" d=\"M3140.0,724.0 L3144.0,716.0 3136.0,716.0\" fill=\"currentColor\"/>\n",
              "</g>\n",
              "\n",
              "<g class=\"displacy-arrow\">\n",
              "    <path class=\"displacy-arc\" id=\"arrow-93226a05c289410fad0f880bbcb18fd9-0-25\" stroke-width=\"2px\" d=\"M3302,722.0 3302,622.0 3869.0,622.0 3869.0,722.0\" fill=\"none\" stroke=\"currentColor\"/>\n",
              "    <text dy=\"1.25em\" style=\"font-size: 0.8em; letter-spacing: 1px\">\n",
              "        <textPath xlink:href=\"#arrow-93226a05c289410fad0f880bbcb18fd9-0-25\" class=\"displacy-label\" startOffset=\"50%\" side=\"left\" fill=\"currentColor\" text-anchor=\"middle\">cc</textPath>\n",
              "    </text>\n",
              "    <path class=\"displacy-arrowhead\" d=\"M3302,724.0 L3298,716.0 3306,716.0\" fill=\"currentColor\"/>\n",
              "</g>\n",
              "\n",
              "<g class=\"displacy-arrow\">\n",
              "    <path class=\"displacy-arc\" id=\"arrow-93226a05c289410fad0f880bbcb18fd9-0-26\" stroke-width=\"2px\" d=\"M3422,722.0 3422,642.0 3866.0,642.0 3866.0,722.0\" fill=\"none\" stroke=\"currentColor\"/>\n",
              "    <text dy=\"1.25em\" style=\"font-size: 0.8em; letter-spacing: 1px\">\n",
              "        <textPath xlink:href=\"#arrow-93226a05c289410fad0f880bbcb18fd9-0-26\" class=\"displacy-label\" startOffset=\"50%\" side=\"left\" fill=\"currentColor\" text-anchor=\"middle\">compound:nn</textPath>\n",
              "    </text>\n",
              "    <path class=\"displacy-arrowhead\" d=\"M3422,724.0 L3418,716.0 3426,716.0\" fill=\"currentColor\"/>\n",
              "</g>\n",
              "\n",
              "<g class=\"displacy-arrow\">\n",
              "    <path class=\"displacy-arc\" id=\"arrow-93226a05c289410fad0f880bbcb18fd9-0-27\" stroke-width=\"2px\" d=\"M3542,722.0 3542,662.0 3863.0,662.0 3863.0,722.0\" fill=\"none\" stroke=\"currentColor\"/>\n",
              "    <text dy=\"1.25em\" style=\"font-size: 0.8em; letter-spacing: 1px\">\n",
              "        <textPath xlink:href=\"#arrow-93226a05c289410fad0f880bbcb18fd9-0-27\" class=\"displacy-label\" startOffset=\"50%\" side=\"left\" fill=\"currentColor\" text-anchor=\"middle\">nummod</textPath>\n",
              "    </text>\n",
              "    <path class=\"displacy-arrowhead\" d=\"M3542,724.0 L3538,716.0 3546,716.0\" fill=\"currentColor\"/>\n",
              "</g>\n",
              "\n",
              "<g class=\"displacy-arrow\">\n",
              "    <path class=\"displacy-arc\" id=\"arrow-93226a05c289410fad0f880bbcb18fd9-0-28\" stroke-width=\"2px\" d=\"M3542,722.0 3542,702.0 3617.0,702.0 3617.0,722.0\" fill=\"none\" stroke=\"currentColor\"/>\n",
              "    <text dy=\"1.25em\" style=\"font-size: 0.8em; letter-spacing: 1px\">\n",
              "        <textPath xlink:href=\"#arrow-93226a05c289410fad0f880bbcb18fd9-0-28\" class=\"displacy-label\" startOffset=\"50%\" side=\"left\" fill=\"currentColor\" text-anchor=\"middle\">mark:clf</textPath>\n",
              "    </text>\n",
              "    <path class=\"displacy-arrowhead\" d=\"M3617.0,724.0 L3621.0,716.0 3613.0,716.0\" fill=\"currentColor\"/>\n",
              "</g>\n",
              "\n",
              "<g class=\"displacy-arrow\">\n",
              "    <path class=\"displacy-arc\" id=\"arrow-93226a05c289410fad0f880bbcb18fd9-0-29\" stroke-width=\"2px\" d=\"M3542,722.0 3542,682.0 3740.0,682.0 3740.0,722.0\" fill=\"none\" stroke=\"currentColor\"/>\n",
              "    <text dy=\"1.25em\" style=\"font-size: 0.8em; letter-spacing: 1px\">\n",
              "        <textPath xlink:href=\"#arrow-93226a05c289410fad0f880bbcb18fd9-0-29\" class=\"displacy-label\" startOffset=\"50%\" side=\"left\" fill=\"currentColor\" text-anchor=\"middle\">case</textPath>\n",
              "    </text>\n",
              "    <path class=\"displacy-arrowhead\" d=\"M3740.0,724.0 L3744.0,716.0 3736.0,716.0\" fill=\"currentColor\"/>\n",
              "</g>\n",
              "\n",
              "<g class=\"displacy-arrow\">\n",
              "    <path class=\"displacy-arc\" id=\"arrow-93226a05c289410fad0f880bbcb18fd9-0-30\" stroke-width=\"2px\" d=\"M3902,722.0 3902,542.0 5201.0,542.0 5201.0,722.0\" fill=\"none\" stroke=\"currentColor\"/>\n",
              "    <text dy=\"1.25em\" style=\"font-size: 0.8em; letter-spacing: 1px\">\n",
              "        <textPath xlink:href=\"#arrow-93226a05c289410fad0f880bbcb18fd9-0-30\" class=\"displacy-label\" startOffset=\"50%\" side=\"left\" fill=\"currentColor\" text-anchor=\"middle\">dep</textPath>\n",
              "    </text>\n",
              "    <path class=\"displacy-arrowhead\" d=\"M3902,724.0 L3898,716.0 3906,716.0\" fill=\"currentColor\"/>\n",
              "</g>\n",
              "\n",
              "<g class=\"displacy-arrow\">\n",
              "    <path class=\"displacy-arc\" id=\"arrow-93226a05c289410fad0f880bbcb18fd9-0-31\" stroke-width=\"2px\" d=\"M4022,722.0 4022,582.0 4835.0,582.0 4835.0,722.0\" fill=\"none\" stroke=\"currentColor\"/>\n",
              "    <text dy=\"1.25em\" style=\"font-size: 0.8em; letter-spacing: 1px\">\n",
              "        <textPath xlink:href=\"#arrow-93226a05c289410fad0f880bbcb18fd9-0-31\" class=\"displacy-label\" startOffset=\"50%\" side=\"left\" fill=\"currentColor\" text-anchor=\"middle\">cc</textPath>\n",
              "    </text>\n",
              "    <path class=\"displacy-arrowhead\" d=\"M4022,724.0 L4018,716.0 4026,716.0\" fill=\"currentColor\"/>\n",
              "</g>\n",
              "\n",
              "<g class=\"displacy-arrow\">\n",
              "    <path class=\"displacy-arc\" id=\"arrow-93226a05c289410fad0f880bbcb18fd9-0-32\" stroke-width=\"2px\" d=\"M4142,722.0 4142,702.0 4217.0,702.0 4217.0,722.0\" fill=\"none\" stroke=\"currentColor\"/>\n",
              "    <text dy=\"1.25em\" style=\"font-size: 0.8em; letter-spacing: 1px\">\n",
              "        <textPath xlink:href=\"#arrow-93226a05c289410fad0f880bbcb18fd9-0-32\" class=\"displacy-label\" startOffset=\"50%\" side=\"left\" fill=\"currentColor\" text-anchor=\"middle\">det</textPath>\n",
              "    </text>\n",
              "    <path class=\"displacy-arrowhead\" d=\"M4142,724.0 L4138,716.0 4146,716.0\" fill=\"currentColor\"/>\n",
              "</g>\n",
              "\n",
              "<g class=\"displacy-arrow\">\n",
              "    <path class=\"displacy-arc\" id=\"arrow-93226a05c289410fad0f880bbcb18fd9-0-33\" stroke-width=\"2px\" d=\"M4262,722.0 4262,682.0 4460.0,682.0 4460.0,722.0\" fill=\"none\" stroke=\"currentColor\"/>\n",
              "    <text dy=\"1.25em\" style=\"font-size: 0.8em; letter-spacing: 1px\">\n",
              "        <textPath xlink:href=\"#arrow-93226a05c289410fad0f880bbcb18fd9-0-33\" class=\"displacy-label\" startOffset=\"50%\" side=\"left\" fill=\"currentColor\" text-anchor=\"middle\">compound:nn</textPath>\n",
              "    </text>\n",
              "    <path class=\"displacy-arrowhead\" d=\"M4262,724.0 L4258,716.0 4266,716.0\" fill=\"currentColor\"/>\n",
              "</g>\n",
              "\n",
              "<g class=\"displacy-arrow\">\n",
              "    <path class=\"displacy-arc\" id=\"arrow-93226a05c289410fad0f880bbcb18fd9-0-34\" stroke-width=\"2px\" d=\"M4382,722.0 4382,702.0 4457.0,702.0 4457.0,722.0\" fill=\"none\" stroke=\"currentColor\"/>\n",
              "    <text dy=\"1.25em\" style=\"font-size: 0.8em; letter-spacing: 1px\">\n",
              "        <textPath xlink:href=\"#arrow-93226a05c289410fad0f880bbcb18fd9-0-34\" class=\"displacy-label\" startOffset=\"50%\" side=\"left\" fill=\"currentColor\" text-anchor=\"middle\">advmod</textPath>\n",
              "    </text>\n",
              "    <path class=\"displacy-arrowhead\" d=\"M4382,724.0 L4378,716.0 4386,716.0\" fill=\"currentColor\"/>\n",
              "</g>\n",
              "\n",
              "<g class=\"displacy-arrow\">\n",
              "    <path class=\"displacy-arc\" id=\"arrow-93226a05c289410fad0f880bbcb18fd9-0-35\" stroke-width=\"2px\" d=\"M4502,722.0 4502,662.0 4823.0,662.0 4823.0,722.0\" fill=\"none\" stroke=\"currentColor\"/>\n",
              "    <text dy=\"1.25em\" style=\"font-size: 0.8em; letter-spacing: 1px\">\n",
              "        <textPath xlink:href=\"#arrow-93226a05c289410fad0f880bbcb18fd9-0-35\" class=\"displacy-label\" startOffset=\"50%\" side=\"left\" fill=\"currentColor\" text-anchor=\"middle\">acl</textPath>\n",
              "    </text>\n",
              "    <path class=\"displacy-arrowhead\" d=\"M4502,724.0 L4498,716.0 4506,716.0\" fill=\"currentColor\"/>\n",
              "</g>\n",
              "\n",
              "<g class=\"displacy-arrow\">\n",
              "    <path class=\"displacy-arc\" id=\"arrow-93226a05c289410fad0f880bbcb18fd9-0-36\" stroke-width=\"2px\" d=\"M4502,722.0 4502,702.0 4577.0,702.0 4577.0,722.0\" fill=\"none\" stroke=\"currentColor\"/>\n",
              "    <text dy=\"1.25em\" style=\"font-size: 0.8em; letter-spacing: 1px\">\n",
              "        <textPath xlink:href=\"#arrow-93226a05c289410fad0f880bbcb18fd9-0-36\" class=\"displacy-label\" startOffset=\"50%\" side=\"left\" fill=\"currentColor\" text-anchor=\"middle\">mark</textPath>\n",
              "    </text>\n",
              "    <path class=\"displacy-arrowhead\" d=\"M4577.0,724.0 L4581.0,716.0 4573.0,716.0\" fill=\"currentColor\"/>\n",
              "</g>\n",
              "\n",
              "<g class=\"displacy-arrow\">\n",
              "    <path class=\"displacy-arc\" id=\"arrow-93226a05c289410fad0f880bbcb18fd9-0-37\" stroke-width=\"2px\" d=\"M4742,722.0 4742,702.0 4817.0,702.0 4817.0,722.0\" fill=\"none\" stroke=\"currentColor\"/>\n",
              "    <text dy=\"1.25em\" style=\"font-size: 0.8em; letter-spacing: 1px\">\n",
              "        <textPath xlink:href=\"#arrow-93226a05c289410fad0f880bbcb18fd9-0-37\" class=\"displacy-label\" startOffset=\"50%\" side=\"left\" fill=\"currentColor\" text-anchor=\"middle\">amod</textPath>\n",
              "    </text>\n",
              "    <path class=\"displacy-arrowhead\" d=\"M4742,724.0 L4738,716.0 4746,716.0\" fill=\"currentColor\"/>\n",
              "</g>\n",
              "\n",
              "<g class=\"displacy-arrow\">\n",
              "    <path class=\"displacy-arc\" id=\"arrow-93226a05c289410fad0f880bbcb18fd9-0-38\" stroke-width=\"2px\" d=\"M4862,722.0 4862,662.0 5183.0,662.0 5183.0,722.0\" fill=\"none\" stroke=\"currentColor\"/>\n",
              "    <text dy=\"1.25em\" style=\"font-size: 0.8em; letter-spacing: 1px\">\n",
              "        <textPath xlink:href=\"#arrow-93226a05c289410fad0f880bbcb18fd9-0-38\" class=\"displacy-label\" startOffset=\"50%\" side=\"left\" fill=\"currentColor\" text-anchor=\"middle\">dep</textPath>\n",
              "    </text>\n",
              "    <path class=\"displacy-arrowhead\" d=\"M4862,724.0 L4858,716.0 4866,716.0\" fill=\"currentColor\"/>\n",
              "</g>\n",
              "\n",
              "<g class=\"displacy-arrow\">\n",
              "    <path class=\"displacy-arc\" id=\"arrow-93226a05c289410fad0f880bbcb18fd9-0-39\" stroke-width=\"2px\" d=\"M4982,722.0 4982,682.0 5180.0,682.0 5180.0,722.0\" fill=\"none\" stroke=\"currentColor\"/>\n",
              "    <text dy=\"1.25em\" style=\"font-size: 0.8em; letter-spacing: 1px\">\n",
              "        <textPath xlink:href=\"#arrow-93226a05c289410fad0f880bbcb18fd9-0-39\" class=\"displacy-label\" startOffset=\"50%\" side=\"left\" fill=\"currentColor\" text-anchor=\"middle\">amod</textPath>\n",
              "    </text>\n",
              "    <path class=\"displacy-arrowhead\" d=\"M4982,724.0 L4978,716.0 4986,716.0\" fill=\"currentColor\"/>\n",
              "</g>\n",
              "\n",
              "<g class=\"displacy-arrow\">\n",
              "    <path class=\"displacy-arc\" id=\"arrow-93226a05c289410fad0f880bbcb18fd9-0-40\" stroke-width=\"2px\" d=\"M4982,722.0 4982,702.0 5057.0,702.0 5057.0,722.0\" fill=\"none\" stroke=\"currentColor\"/>\n",
              "    <text dy=\"1.25em\" style=\"font-size: 0.8em; letter-spacing: 1px\">\n",
              "        <textPath xlink:href=\"#arrow-93226a05c289410fad0f880bbcb18fd9-0-40\" class=\"displacy-label\" startOffset=\"50%\" side=\"left\" fill=\"currentColor\" text-anchor=\"middle\">case</textPath>\n",
              "    </text>\n",
              "    <path class=\"displacy-arrowhead\" d=\"M5057.0,724.0 L5061.0,716.0 5053.0,716.0\" fill=\"currentColor\"/>\n",
              "</g>\n",
              "\n",
              "<g class=\"displacy-arrow\">\n",
              "    <path class=\"displacy-arc\" id=\"arrow-93226a05c289410fad0f880bbcb18fd9-0-41\" stroke-width=\"2px\" d=\"M5222,722.0 5222,682.0 5420.0,682.0 5420.0,722.0\" fill=\"none\" stroke=\"currentColor\"/>\n",
              "    <text dy=\"1.25em\" style=\"font-size: 0.8em; letter-spacing: 1px\">\n",
              "        <textPath xlink:href=\"#arrow-93226a05c289410fad0f880bbcb18fd9-0-41\" class=\"displacy-label\" startOffset=\"50%\" side=\"left\" fill=\"currentColor\" text-anchor=\"middle\">nmod:prep</textPath>\n",
              "    </text>\n",
              "    <path class=\"displacy-arrowhead\" d=\"M5222,724.0 L5218,716.0 5226,716.0\" fill=\"currentColor\"/>\n",
              "</g>\n",
              "\n",
              "<g class=\"displacy-arrow\">\n",
              "    <path class=\"displacy-arc\" id=\"arrow-93226a05c289410fad0f880bbcb18fd9-0-42\" stroke-width=\"2px\" d=\"M5222,722.0 5222,702.0 5297.0,702.0 5297.0,722.0\" fill=\"none\" stroke=\"currentColor\"/>\n",
              "    <text dy=\"1.25em\" style=\"font-size: 0.8em; letter-spacing: 1px\">\n",
              "        <textPath xlink:href=\"#arrow-93226a05c289410fad0f880bbcb18fd9-0-42\" class=\"displacy-label\" startOffset=\"50%\" side=\"left\" fill=\"currentColor\" text-anchor=\"middle\">case</textPath>\n",
              "    </text>\n",
              "    <path class=\"displacy-arrowhead\" d=\"M5297.0,724.0 L5301.0,716.0 5293.0,716.0\" fill=\"currentColor\"/>\n",
              "</g>\n",
              "\n",
              "<g class=\"displacy-arrow\">\n",
              "    <path class=\"displacy-arc\" id=\"arrow-93226a05c289410fad0f880bbcb18fd9-0-43\" stroke-width=\"2px\" d=\"M2582,722.0 2582,482.0 5450.0,482.0 5450.0,722.0\" fill=\"none\" stroke=\"currentColor\"/>\n",
              "    <text dy=\"1.25em\" style=\"font-size: 0.8em; letter-spacing: 1px\">\n",
              "        <textPath xlink:href=\"#arrow-93226a05c289410fad0f880bbcb18fd9-0-43\" class=\"displacy-label\" startOffset=\"50%\" side=\"left\" fill=\"currentColor\" text-anchor=\"middle\">ccomp</textPath>\n",
              "    </text>\n",
              "    <path class=\"displacy-arrowhead\" d=\"M5450.0,724.0 L5454.0,716.0 5446.0,716.0\" fill=\"currentColor\"/>\n",
              "</g>\n",
              "\n",
              "<g class=\"displacy-arrow\">\n",
              "    <path class=\"displacy-arc\" id=\"arrow-93226a05c289410fad0f880bbcb18fd9-0-44\" stroke-width=\"2px\" d=\"M5582,722.0 5582,702.0 5657.0,702.0 5657.0,722.0\" fill=\"none\" stroke=\"currentColor\"/>\n",
              "    <text dy=\"1.25em\" style=\"font-size: 0.8em; letter-spacing: 1px\">\n",
              "        <textPath xlink:href=\"#arrow-93226a05c289410fad0f880bbcb18fd9-0-44\" class=\"displacy-label\" startOffset=\"50%\" side=\"left\" fill=\"currentColor\" text-anchor=\"middle\">det</textPath>\n",
              "    </text>\n",
              "    <path class=\"displacy-arrowhead\" d=\"M5582,724.0 L5578,716.0 5586,716.0\" fill=\"currentColor\"/>\n",
              "</g>\n",
              "\n",
              "<g class=\"displacy-arrow\">\n",
              "    <path class=\"displacy-arc\" id=\"arrow-93226a05c289410fad0f880bbcb18fd9-0-45\" stroke-width=\"2px\" d=\"M5462,722.0 5462,682.0 5660.0,682.0 5660.0,722.0\" fill=\"none\" stroke=\"currentColor\"/>\n",
              "    <text dy=\"1.25em\" style=\"font-size: 0.8em; letter-spacing: 1px\">\n",
              "        <textPath xlink:href=\"#arrow-93226a05c289410fad0f880bbcb18fd9-0-45\" class=\"displacy-label\" startOffset=\"50%\" side=\"left\" fill=\"currentColor\" text-anchor=\"middle\">dobj</textPath>\n",
              "    </text>\n",
              "    <path class=\"displacy-arrowhead\" d=\"M5660.0,724.0 L5664.0,716.0 5656.0,716.0\" fill=\"currentColor\"/>\n",
              "</g>\n",
              "\n",
              "<g class=\"displacy-arrow\">\n",
              "    <path class=\"displacy-arc\" id=\"arrow-93226a05c289410fad0f880bbcb18fd9-0-46\" stroke-width=\"2px\" d=\"M5822,722.0 5822,702.0 5897.0,702.0 5897.0,722.0\" fill=\"none\" stroke=\"currentColor\"/>\n",
              "    <text dy=\"1.25em\" style=\"font-size: 0.8em; letter-spacing: 1px\">\n",
              "        <textPath xlink:href=\"#arrow-93226a05c289410fad0f880bbcb18fd9-0-46\" class=\"displacy-label\" startOffset=\"50%\" side=\"left\" fill=\"currentColor\" text-anchor=\"middle\">case</textPath>\n",
              "    </text>\n",
              "    <path class=\"displacy-arrowhead\" d=\"M5822,724.0 L5818,716.0 5826,716.0\" fill=\"currentColor\"/>\n",
              "</g>\n",
              "\n",
              "<g class=\"displacy-arrow\">\n",
              "    <path class=\"displacy-arc\" id=\"arrow-93226a05c289410fad0f880bbcb18fd9-0-47\" stroke-width=\"2px\" d=\"M5942,722.0 5942,682.0 6140.0,682.0 6140.0,722.0\" fill=\"none\" stroke=\"currentColor\"/>\n",
              "    <text dy=\"1.25em\" style=\"font-size: 0.8em; letter-spacing: 1px\">\n",
              "        <textPath xlink:href=\"#arrow-93226a05c289410fad0f880bbcb18fd9-0-47\" class=\"displacy-label\" startOffset=\"50%\" side=\"left\" fill=\"currentColor\" text-anchor=\"middle\">nmod:prep</textPath>\n",
              "    </text>\n",
              "    <path class=\"displacy-arrowhead\" d=\"M5942,724.0 L5938,716.0 5946,716.0\" fill=\"currentColor\"/>\n",
              "</g>\n",
              "\n",
              "<g class=\"displacy-arrow\">\n",
              "    <path class=\"displacy-arc\" id=\"arrow-93226a05c289410fad0f880bbcb18fd9-0-48\" stroke-width=\"2px\" d=\"M6062,722.0 6062,702.0 6137.0,702.0 6137.0,722.0\" fill=\"none\" stroke=\"currentColor\"/>\n",
              "    <text dy=\"1.25em\" style=\"font-size: 0.8em; letter-spacing: 1px\">\n",
              "        <textPath xlink:href=\"#arrow-93226a05c289410fad0f880bbcb18fd9-0-48\" class=\"displacy-label\" startOffset=\"50%\" side=\"left\" fill=\"currentColor\" text-anchor=\"middle\">advmod</textPath>\n",
              "    </text>\n",
              "    <path class=\"displacy-arrowhead\" d=\"M6062,724.0 L6058,716.0 6066,716.0\" fill=\"currentColor\"/>\n",
              "</g>\n",
              "\n",
              "<g class=\"displacy-arrow\">\n",
              "    <path class=\"displacy-arc\" id=\"arrow-93226a05c289410fad0f880bbcb18fd9-0-49\" stroke-width=\"2px\" d=\"M5462,722.0 5462,602.0 6152.0,602.0 6152.0,722.0\" fill=\"none\" stroke=\"currentColor\"/>\n",
              "    <text dy=\"1.25em\" style=\"font-size: 0.8em; letter-spacing: 1px\">\n",
              "        <textPath xlink:href=\"#arrow-93226a05c289410fad0f880bbcb18fd9-0-49\" class=\"displacy-label\" startOffset=\"50%\" side=\"left\" fill=\"currentColor\" text-anchor=\"middle\">ccomp</textPath>\n",
              "    </text>\n",
              "    <path class=\"displacy-arrowhead\" d=\"M6152.0,724.0 L6156.0,716.0 6148.0,716.0\" fill=\"currentColor\"/>\n",
              "</g>\n",
              "</svg>\n",
              "</figure>\n",
              "</body>\n",
              "</html></span>"
            ],
            "text/plain": [
              "<IPython.core.display.HTML object>"
            ]
          },
          "metadata": {},
          "output_type": "display_data"
        }
      ],
      "source": [
        "\n",
        "html = displacy.render([doc], style=\"dep\", page=True, options=options)\n"
      ]
    },
    {
      "cell_type": "markdown",
      "metadata": {
        "id": "D67a68kCAaAu"
      },
      "source": [
        "All output"
      ]
    }
  ],
  "metadata": {
    "kernelspec": {
      "display_name": "Python 3",
      "language": "python",
      "name": "python3"
    },
    "language_info": {
      "codemirror_mode": {
        "name": "ipython",
        "version": 3
      },
      "file_extension": ".py",
      "mimetype": "text/x-python",
      "name": "python",
      "nbconvert_exporter": "python",
      "pygments_lexer": "ipython3",
      "version": "3.6.5"
    },
    "colab": {
      "provenance": []
    }
  },
  "nbformat": 4,
  "nbformat_minor": 0
}